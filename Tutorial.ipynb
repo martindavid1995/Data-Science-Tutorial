{
 "cells": [
  {
   "cell_type": "code",
   "execution_count": null,
   "metadata": {},
   "outputs": [],
   "source": []
  },
  {
   "cell_type": "markdown",
   "metadata": {},
   "source": [
    "# CMSC320 Final Tutorial\n",
    "## David Martin\n",
    "---\n",
    "An analysis of COVID data across Virginia"
   ]
  },
  {
   "cell_type": "code",
   "execution_count": 5,
   "metadata": {},
   "outputs": [],
   "source": [
    "import folium\n",
    "import requests\n",
    "import pandas as pd"
   ]
  },
  {
   "cell_type": "code",
   "execution_count": 12,
   "metadata": {},
   "outputs": [
    {
     "data": {
      "text/plain": [
       "Report Date            object\n",
       "FIPS                    int64\n",
       "Locality               object\n",
       "VDH Health District    object\n",
       "Total Cases             int64\n",
       "Hospitalizations        int64\n",
       "Deaths                  int64\n",
       "dtype: object"
      ]
     },
     "execution_count": 12,
     "metadata": {},
     "output_type": "execute_result"
    }
   ],
   "source": [
    "# Pull data on COVID cases across virginia\n",
    "covid_data = pd.read_csv(\"https://raw.githubusercontent.com/martindavid1995/Data-Science-Tutorial/master/Covid_VA.csv\")\n",
    "covid_data\n",
    "covid_data.dtypes"
   ]
  },
  {
   "cell_type": "code",
   "execution_count": null,
   "metadata": {},
   "outputs": [],
   "source": []
  },
  {
   "cell_type": "code",
   "execution_count": null,
   "metadata": {},
   "outputs": [],
   "source": []
  }
 ],
 "metadata": {
  "interpreter": {
   "hash": "0305797186e5b23b2dbde5736499e01b32f3bcfd44ad4b479fc191776976783f"
  },
  "kernelspec": {
   "display_name": "Python 3.9.7 ('base')",
   "language": "python",
   "name": "python3"
  },
  "language_info": {
   "name": "python",
   "version": "3.9.7"
  },
  "orig_nbformat": 4
 },
 "nbformat": 4,
 "nbformat_minor": 2
}
