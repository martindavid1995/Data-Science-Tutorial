{
 "cells": [
  {
   "cell_type": "markdown",
   "id": "spoken-cisco",
   "metadata": {},
   "source": [
    "# Final Tutorial\n",
    "### CMSC320\n",
    "### David Martin\n",
    "---"
   ]
  },
  {
   "cell_type": "code",
   "execution_count": 2,
   "id": "quiet-parking",
   "metadata": {},
   "outputs": [
    {
     "name": "stdout",
     "output_type": "stream",
     "text": [
      "5 ^ 2 =  25\n",
      "1 ^ 2 =  1\n",
      "3 ^ 2 =  9\n",
      "15 ^ 2 =  225\n",
      "13 ^ 2 =  169\n",
      "5 ^ 2 =  25\n"
     ]
    }
   ],
   "source": [
    "i = [5,1,3,15,13,5]\n",
    "for v in i:\n",
    "    print(v,\"^ 2 = \",v**2) \n"
   ]
  },
  {
   "cell_type": "code",
   "execution_count": null,
   "id": "trying-correlation",
   "metadata": {},
   "outputs": [],
   "source": []
  }
 ],
 "metadata": {
  "kernelspec": {
   "display_name": "Python 3",
   "language": "python",
   "name": "python3"
  },
  "language_info": {
   "codemirror_mode": {
    "name": "ipython",
    "version": 3
   },
   "file_extension": ".py",
   "mimetype": "text/x-python",
   "name": "python",
   "nbconvert_exporter": "python",
   "pygments_lexer": "ipython3",
   "version": "3.8.6"
  }
 },
 "nbformat": 4,
 "nbformat_minor": 5
}
