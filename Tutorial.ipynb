{
 "cells": [
  {
   "cell_type": "markdown",
   "metadata": {},
   "source": [
    "# CMSC320 - Introduction to Data Science\n",
    "## Final Tutorial\n",
    "#### David Martin\n",
    "---"
   ]
  },
  {
   "cell_type": "markdown",
   "metadata": {},
   "source": [
    "The purpose of this tutorial is to perform an analysis of COVID data across the state of Virginia."
   ]
  },
  {
   "cell_type": "code",
   "execution_count": 211,
   "metadata": {},
   "outputs": [],
   "source": [
    "import pandas as pd\n",
    "import datetime \n",
    "import matplotlib.pyplot as plt\n",
    "import requests\n",
    "import difflib\n",
    "import re\n",
    "from fuzzywuzzy import process\n",
    "from bs4 import BeautifulSoup\n",
    "plt.style.use('seaborn-whitegrid')"
   ]
  },
  {
   "cell_type": "markdown",
   "metadata": {},
   "source": [
    "## Data Collection\n",
    "\n",
    "Lets start by pulling the data from the dataset \"VDH-COVID-19-PublicUseDataset-Cases\" as found on data.virginia.gov, and taking a look at what it contains:\n",
    "\n",
    "https://data.virginia.gov/Government/VDH-COVID-19-PublicUseDataset-Cases/bre9-aqqr\n",
    "\n",
    "I uploaded the .csv to my GitHub at the following link:\n",
    "\n",
    "https://github.com/martindavid1995/Data-Science-Tutorial"
   ]
  },
  {
   "cell_type": "code",
   "execution_count": 212,
   "metadata": {},
   "outputs": [
    {
     "data": {
      "text/html": [
       "<div>\n",
       "<style scoped>\n",
       "    .dataframe tbody tr th:only-of-type {\n",
       "        vertical-align: middle;\n",
       "    }\n",
       "\n",
       "    .dataframe tbody tr th {\n",
       "        vertical-align: top;\n",
       "    }\n",
       "\n",
       "    .dataframe thead th {\n",
       "        text-align: right;\n",
       "    }\n",
       "</style>\n",
       "<table border=\"1\" class=\"dataframe\">\n",
       "  <thead>\n",
       "    <tr style=\"text-align: right;\">\n",
       "      <th></th>\n",
       "      <th>Report Date</th>\n",
       "      <th>FIPS</th>\n",
       "      <th>Locality</th>\n",
       "      <th>VDH Health District</th>\n",
       "      <th>Total Cases</th>\n",
       "      <th>Hospitalizations</th>\n",
       "      <th>Deaths</th>\n",
       "    </tr>\n",
       "  </thead>\n",
       "  <tbody>\n",
       "    <tr>\n",
       "      <th>0</th>\n",
       "      <td>03/17/2020</td>\n",
       "      <td>51001</td>\n",
       "      <td>Accomack</td>\n",
       "      <td>Eastern Shore</td>\n",
       "      <td>0</td>\n",
       "      <td>0</td>\n",
       "      <td>0</td>\n",
       "    </tr>\n",
       "    <tr>\n",
       "      <th>1</th>\n",
       "      <td>03/17/2020</td>\n",
       "      <td>51003</td>\n",
       "      <td>Albemarle</td>\n",
       "      <td>Thomas Jefferson</td>\n",
       "      <td>0</td>\n",
       "      <td>0</td>\n",
       "      <td>0</td>\n",
       "    </tr>\n",
       "    <tr>\n",
       "      <th>2</th>\n",
       "      <td>03/17/2020</td>\n",
       "      <td>51005</td>\n",
       "      <td>Alleghany</td>\n",
       "      <td>Alleghany</td>\n",
       "      <td>0</td>\n",
       "      <td>0</td>\n",
       "      <td>0</td>\n",
       "    </tr>\n",
       "    <tr>\n",
       "      <th>3</th>\n",
       "      <td>03/17/2020</td>\n",
       "      <td>51007</td>\n",
       "      <td>Amelia</td>\n",
       "      <td>Piedmont</td>\n",
       "      <td>0</td>\n",
       "      <td>0</td>\n",
       "      <td>0</td>\n",
       "    </tr>\n",
       "    <tr>\n",
       "      <th>4</th>\n",
       "      <td>03/17/2020</td>\n",
       "      <td>51009</td>\n",
       "      <td>Amherst</td>\n",
       "      <td>Central Virginia</td>\n",
       "      <td>0</td>\n",
       "      <td>0</td>\n",
       "      <td>0</td>\n",
       "    </tr>\n",
       "  </tbody>\n",
       "</table>\n",
       "</div>"
      ],
      "text/plain": [
       "  Report Date   FIPS   Locality VDH Health District  Total Cases  \\\n",
       "0  03/17/2020  51001   Accomack       Eastern Shore            0   \n",
       "1  03/17/2020  51003  Albemarle    Thomas Jefferson            0   \n",
       "2  03/17/2020  51005  Alleghany           Alleghany            0   \n",
       "3  03/17/2020  51007     Amelia            Piedmont            0   \n",
       "4  03/17/2020  51009    Amherst    Central Virginia            0   \n",
       "\n",
       "   Hospitalizations  Deaths  \n",
       "0                 0       0  \n",
       "1                 0       0  \n",
       "2                 0       0  \n",
       "3                 0       0  \n",
       "4                 0       0  "
      ]
     },
     "execution_count": 212,
     "metadata": {},
     "output_type": "execute_result"
    }
   ],
   "source": [
    "# Pull data on COVID cases across Virginia\n",
    "covid_data = pd.read_csv(\"https://raw.githubusercontent.com/martindavid1995/Data-Science-Tutorial/master/Covid_VA.csv\")\n",
    "covid_data.head()"
   ]
  },
  {
   "cell_type": "markdown",
   "metadata": {},
   "source": [
    "## Data Management\n",
    "\n",
    "Now that we have our dataset imported, lets start looking at what we have to work with. In order to visualize our data, we should look to find what "
   ]
  },
  {
   "cell_type": "code",
   "execution_count": 213,
   "metadata": {},
   "outputs": [
    {
     "name": "stdout",
     "output_type": "stream",
     "text": [
      "Total number of columns in the dataset:  103607\n"
     ]
    }
   ],
   "source": [
    "print(\"Total number of columns in the dataset: \",len(covid_data.index))"
   ]
  },
  {
   "cell_type": "markdown",
   "metadata": {},
   "source": [
    "As we can see, we have a pretty large set of data. Over 100,000 rows with seemingly an entry for each locality for each date within the specified range. Lets see what the day range looks like:"
   ]
  },
  {
   "cell_type": "code",
   "execution_count": 214,
   "metadata": {},
   "outputs": [
    {
     "name": "stdout",
     "output_type": "stream",
     "text": [
      "Min:  01/01/2021\n",
      "Max:  12/31/2021\n"
     ]
    }
   ],
   "source": [
    "# Prints the minimum and maximum values of a specified column in a DataFrame\n",
    "def printMinMax(df, column):\n",
    "    print(\"Min: \",df[column].min())\n",
    "    print(\"Max: \",df[column].max())\n",
    "    \n",
    "printMinMax(covid_data, \"Report Date\")"
   ]
  },
  {
   "cell_type": "markdown",
   "metadata": {},
   "source": [
    "If we look at the results of the above cell, we notice our first issue with this dataset. The date range from the days above shows January 1, 2021 as being the earliest recorded date when we can clearly see from the head output in the above cells that we have columns with dates going back into 2020. This must be because there is some inability to compare these date objects in the current dataframe accurately. Lets convert the dates into DateTime objects so we can figure out our actual date range, and manipulate and visualize our data better."
   ]
  },
  {
   "cell_type": "code",
   "execution_count": 215,
   "metadata": {},
   "outputs": [
    {
     "data": {
      "text/html": [
       "<div>\n",
       "<style scoped>\n",
       "    .dataframe tbody tr th:only-of-type {\n",
       "        vertical-align: middle;\n",
       "    }\n",
       "\n",
       "    .dataframe tbody tr th {\n",
       "        vertical-align: top;\n",
       "    }\n",
       "\n",
       "    .dataframe thead th {\n",
       "        text-align: right;\n",
       "    }\n",
       "</style>\n",
       "<table border=\"1\" class=\"dataframe\">\n",
       "  <thead>\n",
       "    <tr style=\"text-align: right;\">\n",
       "      <th></th>\n",
       "      <th>Report Date</th>\n",
       "      <th>FIPS</th>\n",
       "      <th>Locality</th>\n",
       "      <th>VDH Health District</th>\n",
       "      <th>Total Cases</th>\n",
       "      <th>Hospitalizations</th>\n",
       "      <th>Deaths</th>\n",
       "      <th>DateTime</th>\n",
       "    </tr>\n",
       "  </thead>\n",
       "  <tbody>\n",
       "    <tr>\n",
       "      <th>0</th>\n",
       "      <td>03/17/2020</td>\n",
       "      <td>51001</td>\n",
       "      <td>Accomack</td>\n",
       "      <td>Eastern Shore</td>\n",
       "      <td>0</td>\n",
       "      <td>0</td>\n",
       "      <td>0</td>\n",
       "      <td>2020-03-17</td>\n",
       "    </tr>\n",
       "    <tr>\n",
       "      <th>1</th>\n",
       "      <td>03/17/2020</td>\n",
       "      <td>51003</td>\n",
       "      <td>Albemarle</td>\n",
       "      <td>Thomas Jefferson</td>\n",
       "      <td>0</td>\n",
       "      <td>0</td>\n",
       "      <td>0</td>\n",
       "      <td>2020-03-17</td>\n",
       "    </tr>\n",
       "    <tr>\n",
       "      <th>2</th>\n",
       "      <td>03/17/2020</td>\n",
       "      <td>51005</td>\n",
       "      <td>Alleghany</td>\n",
       "      <td>Alleghany</td>\n",
       "      <td>0</td>\n",
       "      <td>0</td>\n",
       "      <td>0</td>\n",
       "      <td>2020-03-17</td>\n",
       "    </tr>\n",
       "    <tr>\n",
       "      <th>3</th>\n",
       "      <td>03/17/2020</td>\n",
       "      <td>51007</td>\n",
       "      <td>Amelia</td>\n",
       "      <td>Piedmont</td>\n",
       "      <td>0</td>\n",
       "      <td>0</td>\n",
       "      <td>0</td>\n",
       "      <td>2020-03-17</td>\n",
       "    </tr>\n",
       "    <tr>\n",
       "      <th>4</th>\n",
       "      <td>03/17/2020</td>\n",
       "      <td>51009</td>\n",
       "      <td>Amherst</td>\n",
       "      <td>Central Virginia</td>\n",
       "      <td>0</td>\n",
       "      <td>0</td>\n",
       "      <td>0</td>\n",
       "      <td>2020-03-17</td>\n",
       "    </tr>\n",
       "  </tbody>\n",
       "</table>\n",
       "</div>"
      ],
      "text/plain": [
       "  Report Date   FIPS   Locality VDH Health District  Total Cases  \\\n",
       "0  03/17/2020  51001   Accomack       Eastern Shore            0   \n",
       "1  03/17/2020  51003  Albemarle    Thomas Jefferson            0   \n",
       "2  03/17/2020  51005  Alleghany           Alleghany            0   \n",
       "3  03/17/2020  51007     Amelia            Piedmont            0   \n",
       "4  03/17/2020  51009    Amherst    Central Virginia            0   \n",
       "\n",
       "   Hospitalizations  Deaths    DateTime  \n",
       "0                 0       0  2020-03-17  \n",
       "1                 0       0  2020-03-17  \n",
       "2                 0       0  2020-03-17  \n",
       "3                 0       0  2020-03-17  \n",
       "4                 0       0  2020-03-17  "
      ]
     },
     "execution_count": 215,
     "metadata": {},
     "output_type": "execute_result"
    }
   ],
   "source": [
    "# Split each date string into its components\n",
    "def dateToDateTime(date: str):\n",
    "    split = date.split(\"/\")\n",
    "    month = int(split[0])\n",
    "    day = int(split[1])\n",
    "    year = int(split[2])\n",
    "    # Return a new DateTime object \n",
    "    return datetime.date(year, month, day)\n",
    "    \n",
    "# Convert each row's Report Date into a readable DateTime\n",
    "def convertDateTime(df):\n",
    "    datetimes = []\n",
    "    for index,row in df.iterrows():\n",
    "        date = df.at[index, \"Report Date\"]\n",
    "        datetimes.append(dateToDateTime(date))\n",
    "    \n",
    "    # Add the new DateTimes to the original DataFrame\n",
    "    df['DateTime'] = datetimes\n",
    "    return df\n",
    "\n",
    "covid_data = convertDateTime(covid_data)\n",
    "covid_data.head()"
   ]
  },
  {
   "cell_type": "markdown",
   "metadata": {},
   "source": [
    "With the new DateTime column added, lets check to see what our actual date range looks like for this dataset."
   ]
  },
  {
   "cell_type": "code",
   "execution_count": 216,
   "metadata": {},
   "outputs": [
    {
     "name": "stdout",
     "output_type": "stream",
     "text": [
      "Min:  2020-03-17\n",
      "Max:  2022-05-04\n"
     ]
    }
   ],
   "source": [
    "printMinMax(covid_data, \"DateTime\")"
   ]
  },
  {
   "cell_type": "markdown",
   "metadata": {},
   "source": [
    "Now we have a column with dates that we can actually compare in our data analysis. We can see that our data's report dates span from March 2020 to May 2022. Lets see what counties we have, how many dates are recorded, and see if each county has a report for each date."
   ]
  },
  {
   "cell_type": "code",
   "execution_count": 217,
   "metadata": {},
   "outputs": [
    {
     "name": "stdout",
     "output_type": "stream",
     "text": [
      "There are  133  unique counties\n",
      "There are  779  unique dates\n",
      "Each date has  133  unique entries\n"
     ]
    }
   ],
   "source": [
    "# Get a list of the unique counties\n",
    "counties = covid_data[\"Locality\"].unique()\n",
    "# Display how many unique counties are in our dataset\n",
    "print(\"There are \",len(counties),\" unique counties\")\n",
    "\n",
    "# Figure out how many unique dates we have data for\n",
    "dates = covid_data[\"DateTime\"].unique()\n",
    "# Display how many unique dates we have\n",
    "print(\"There are \",len(dates),\" unique dates\")\n",
    "\n",
    "# Get the number of rows containing each unique date in our dataset\n",
    "date_counts = covid_data[\"Report Date\"].value_counts()\n",
    "unique_dates = date_counts.unique()\n",
    "# Display the unique date count values\n",
    "print(\"Each date has \",unique_dates[0],\" unique entries\")"
   ]
  },
  {
   "cell_type": "markdown",
   "metadata": {},
   "source": [
    "This above cell gives us a lot of great information. We now know that we have 133 Virginia counties whose COVID reporting data is in this dataset. We also know that each of the 133 counties has reported COVID data for each of the 779 dates recorded in this table. With this information, we can now move onto visualizing our data."
   ]
  },
  {
   "cell_type": "markdown",
   "metadata": {},
   "source": [
    "## Exploratory Data Analysis\n",
    "\n",
    "Now that we know a bit more about our dataset and have made some slight modifications to make it more manipulatable, lets try to visualize our COVID data."
   ]
  },
  {
   "cell_type": "markdown",
   "metadata": {},
   "source": [
    "We can start by taking a look at cases over time:"
   ]
  },
  {
   "cell_type": "code",
   "execution_count": 218,
   "metadata": {},
   "outputs": [
    {
     "data": {
      "image/png": "[encoded data removed]",
      "text/plain": [
       "<Figure size 432x288 with 1 Axes>"
      ]
     },
     "metadata": {},
     "output_type": "display_data"
    }
   ],
   "source": [
    "# Create figure and axes\n",
    "fig = plt.figure()\n",
    "ax = plt.axes()\n",
    "\n",
    "# Plot with x axis as time and y axis as total cases\n",
    "ax.plot(covid_data[\"DateTime\"], covid_data[\"Total Cases\"])\n",
    "\n",
    "# Set labels and title\n",
    "plt.xlabel(\"Time\")\n",
    "plt.ylabel(\"Total Cases\")\n",
    "plt.title(\"Cumulative COVID positive cases in Virginia over time\")\n",
    "\n",
    "# Rotate ticks\n",
    "plt.xticks(rotation=90)\n",
    "plt.show()"
   ]
  },
  {
   "cell_type": "markdown",
   "metadata": {},
   "source": [
    "As expected, the total number COVID cases in Virginia goes up over time. This is pretty intuitive as there is no way for the total cases to go down because it is a cumulative measure. From this chart we can gather some information about COVID contraction rates. We see two sections with steep slopes - January 2020 and January 2021 show massive relative spikes in new cases state-wide. This comes as no surprise, as the winter months involved cold/flu season as well as lots of family gatherings which might have added to the rate of spread. \n",
    "\n",
    "Instead of looking only at the cumulative cases, I think it would be interesting to see how many new cases, hospitalizations, and deaths are reported over time. We will also want to assess how these values flucuate from county to county, so we will separate the data by county. Lets do some more manipulation to our data in order visualize these changes."
   ]
  },
  {
   "cell_type": "code",
   "execution_count": 219,
   "metadata": {},
   "outputs": [],
   "source": [
    "# Takes a dataframe for a specific county and adds a column that shows the number of new cases reported for each report date\n",
    "def genColumnDifference(df, column):\n",
    "    offsets = []\n",
    "    # For each row in the dataframe\n",
    "    for index, row in df.iterrows():\n",
    "        if index == 0:\n",
    "            offsets.append(0)\n",
    "        else:\n",
    "            # Compute the difference in the specified column of the current report date minus the previous report date\n",
    "            offsets.append(df.at[index, column] - df.at[index-1, column])\n",
    "    # Append this column to the dataframe\n",
    "    df[column+\" Per Day\"] = offsets\n",
    "    return df\n",
    "\n",
    "county_frames = []\n",
    "# For each county \n",
    "for county in counties:\n",
    "    # Construct a new dataframe consisting only of rows corresponding to this county\n",
    "    county_frame = covid_data.loc[covid_data[\"Locality\"] == county]\n",
    "    # Reset the indices\n",
    "    county_frame = county_frame.reset_index(drop=True)\n",
    "    # Get the column differences for Total Cases, Hospitalizations, and Deaths\n",
    "    county_frame = genColumnDifference(county_frame, \"Total Cases\")\n",
    "    county_frame = genColumnDifference(county_frame, \"Hospitalizations\")\n",
    "    county_frame = genColumnDifference(county_frame, \"Deaths\")\n",
    "    # Add it to our list of counties\n",
    "    county_frames.append(county_frame)"
   ]
  },
  {
   "cell_type": "markdown",
   "metadata": {},
   "source": [
    "Now we have a separate DataFrame for each county, and each of those frames now has columns representing the daily cases, hospitalizations, and deaths. It might be useful in our analysis to obtain the case, death, and hospitalization rates for each of our counties. To get accurate representations of these rates, we're going to need to know each counties population. A google search of [Virginia Counties by Population](https://www.virginia-demographics.com/counties_by_population) brings us a chart with a value for each of Virginia's 133 counties. While we could sit here and manually enter the populations by hand, we can use python and [BeautifulSoup](https://www.crummy.com/software/BeautifulSoup/bs4/doc/) to strip the data out of this chart so that we don't have to. "
   ]
  },
  {
   "cell_type": "code",
   "execution_count": 220,
   "metadata": {},
   "outputs": [
    {
     "data": {
      "text/html": [
       "<div>\n",
       "<style scoped>\n",
       "    .dataframe tbody tr th:only-of-type {\n",
       "        vertical-align: middle;\n",
       "    }\n",
       "\n",
       "    .dataframe tbody tr th {\n",
       "        vertical-align: top;\n",
       "    }\n",
       "\n",
       "    .dataframe thead th {\n",
       "        text-align: right;\n",
       "    }\n",
       "</style>\n",
       "<table border=\"1\" class=\"dataframe\">\n",
       "  <thead>\n",
       "    <tr style=\"text-align: right;\">\n",
       "      <th></th>\n",
       "      <th>Rank</th>\n",
       "      <th>County</th>\n",
       "      <th>Population</th>\n",
       "    </tr>\n",
       "  </thead>\n",
       "  <tbody>\n",
       "    <tr>\n",
       "      <th>0</th>\n",
       "      <td>1</td>\n",
       "      <td>Fairfax County</td>\n",
       "      <td>1149439</td>\n",
       "    </tr>\n",
       "    <tr>\n",
       "      <th>1</th>\n",
       "      <td>2</td>\n",
       "      <td>Prince William County</td>\n",
       "      <td>466834</td>\n",
       "    </tr>\n",
       "    <tr>\n",
       "      <th>2</th>\n",
       "      <td>3</td>\n",
       "      <td>Virginia Beach city/county</td>\n",
       "      <td>450882</td>\n",
       "    </tr>\n",
       "    <tr>\n",
       "      <th>3</th>\n",
       "      <td>4</td>\n",
       "      <td>Loudoun County</td>\n",
       "      <td>405312</td>\n",
       "    </tr>\n",
       "    <tr>\n",
       "      <th>4</th>\n",
       "      <td>5</td>\n",
       "      <td>Chesterfield County</td>\n",
       "      <td>348500</td>\n",
       "    </tr>\n",
       "  </tbody>\n",
       "</table>\n",
       "</div>"
      ],
      "text/plain": [
       "  Rank                      County Population\n",
       "0    1              Fairfax County    1149439\n",
       "1    2       Prince William County     466834\n",
       "2    3  Virginia Beach city/county     450882\n",
       "3    4              Loudoun County     405312\n",
       "4    5         Chesterfield County     348500"
      ]
     },
     "execution_count": 220,
     "metadata": {},
     "output_type": "execute_result"
    }
   ],
   "source": [
    "# Use requests to pull data from URL\n",
    "r = requests.get(\"https://www.virginia-demographics.com/counties_by_population\")\n",
    "# Use BeautifulSoup to parse the request's HTML\n",
    "soup = BeautifulSoup(r.content, 'html.parser')\n",
    "# Find the table object and prettify it\n",
    "table = soup.find('table').prettify()\n",
    "# Convert the table into a DataFrame\n",
    "populations = pd.read_html(str(table))[0]\n",
    "# Drop the last row because it has data we don't need\n",
    "populations = populations.drop(index=len(populations.index)-1)\n",
    "populations.head()"
   ]
  },
  {
   "cell_type": "markdown",
   "metadata": {},
   "source": [
    "Great - We now have a DataFrame containing all of the 133 Virginia counties. We do have an issue in the way the county names are written between this DataFrame and our master DataFrame in our database. This will make it difficult for us to look up the population of a county using this table. We need to attempt to have a unique matching county name for each pair in each of our DataFrames so that we can easily access each counties population. We can use the Python library [FuzzyWuzzy](https://pypi.org/project/fuzzywuzzy/) to match our county names in one frame to line them up with one another. "
   ]
  },
  {
   "cell_type": "code",
   "execution_count": 221,
   "metadata": {},
   "outputs": [
    {
     "name": "stdout",
     "output_type": "stream",
     "text": [
      "    Rank            County Population\n",
      "0      1           Fairfax    1149439\n",
      "1      2    Prince William     466834\n",
      "2      3    Virginia Beach     450882\n",
      "3      4           Loudoun     405312\n",
      "4      5      Chesterfield     348500\n",
      "5      6           Henrico     330076\n",
      "6      7           Norfolk     244300\n",
      "7      8        Chesapeake     242647\n",
      "8      9         Arlington     236434\n",
      "9     10     Richmond City     229233\n",
      "10    11      Newport News     179582\n",
      "11    12        Alexandria     158309\n",
      "12    13          Stafford     150185\n",
      "13    14           Hampton     135169\n",
      "14    15      Spotsylvania     134683\n",
      "15    16         Albemarle     108819\n",
      "16    17           Hanover     106538\n",
      "17    18      Roanoke City      99122\n",
      "18    19        Montgomery      98495\n",
      "19    20        Portsmouth      94961\n",
      "20    21    Roanoke County      94103\n",
      "21    22           Suffolk      91383\n",
      "22    23         Frederick      88054\n",
      "23    24        Rockingham      81138\n",
      "24    25         Lynchburg      80970\n",
      "25    26           Bedford      78965\n",
      "26    27        James City      76032\n",
      "27    28           Augusta      75754\n",
      "28    29          Fauquier      70353\n",
      "29    30              York      68389\n",
      "30    31      Pittsylvania      60867\n",
      "31    32   Franklin County      56231\n",
      "32    33          Campbell      55406\n",
      "33    34        Washington      54005\n",
      "34    35      Harrisonburg      53558\n",
      "35    36          Culpeper      51935\n",
      "36    37             Henry      51032\n",
      "37    38         Charlotte      47217\n",
      "38    39        Shenandoah      43441\n",
      "39    40          Tazewell      41201\n",
      "40    41     Manassas City      41038\n",
      "41    42          Danville      40668\n",
      "42    43            Warren      39888\n",
      "43    44     Prince George      38292\n",
      "44    45              Wise      38032\n",
      "45    46        Gloucester      37362\n",
      "46    47     Isle of Wight      37107\n",
      "47    48            Louisa      36654\n",
      "48    49            Orange      36501\n",
      "49    50           Halifax      34295\n",
      "50    51           Pulaski      34113\n",
      "51    52         Botetourt      33440\n",
      "52    53          Accomack      32560\n",
      "53    54           Amherst      31782\n",
      "54    55        Petersburg      30791\n",
      "55    56       Mecklenburg      30726\n",
      "56    57          Caroline      30581\n",
      "57    58             Smyth      30539\n",
      "58    59           Carroll      29911\n",
      "59    60          Powhatan      29253\n",
      "60    61    Fredericksburg      29059\n",
      "61    62             Wythe      28725\n",
      "62    63         Dinwiddie      28686\n",
      "63    64        Winchester      27912\n",
      "64    65           Russell      26937\n",
      "65    66          Fluvanna      26873\n",
      "66    67       King George      26679\n",
      "67    68             Salem      25290\n",
      "68    69          Staunton      24660\n",
      "69    70              Page      23862\n",
      "70    71               Lee      23723\n",
      "71    72         Goochland      23472\n",
      "72    73      Fairfax City      23312\n",
      "73    74     Prince Edward      22892\n",
      "74    75        Rockbridge      22728\n",
      "75    76          Hopewell      22500\n",
      "76    77          New Kent      22310\n",
      "77    78        Waynesboro      22300\n",
      "78    79             Scott      21761\n",
      "79    80          Buchanan      21374\n",
      "80    81            Greene      19734\n",
      "81    82      Westmoreland      17873\n",
      "82    83           Radford      17833\n",
      "83    84       Southampton      17829\n",
      "84    85           Patrick      17660\n",
      "85    86     Manassas Park      17548\n",
      "86    87  Colonial Heights      17283\n",
      "87    88        Buckingham      17087\n",
      "88    89           Bristol      17059\n",
      "89    90      King William      16985\n",
      "90    91             Giles      16760\n",
      "91    92         Brunswick      16336\n",
      "92    93        Appomattox      15814\n",
      "93    94             Floyd      15766\n",
      "94    95           Grayson      15651\n",
      "95    96          Nottoway      15338\n",
      "96    97      Williamsburg      15034\n",
      "97    98         Alleghany      15030\n",
      "98    99            Nelson      14812\n",
      "99   100         Dickenson      14524\n",
      "100  101            Clarke      14498\n",
      "101  102      Falls Church      14309\n",
      "102  103           Madison      13208\n",
      "103  104            Amelia      12970\n",
      "104  105      Martinsville      12646\n",
      "105  106         Lunenburg      12294\n",
      "106  107    Northumberland      12151\n",
      "107  108          Poquoson      12121\n",
      "108  109  Charlotte County      11953\n",
      "109  110       Northampton      11826\n",
      "110  111       Greensville      11403\n",
      "111  112            Sussex      11202\n",
      "112  113             Essex      10960\n",
      "113  114         Lancaster      10686\n",
      "114  115         Middlesex      10642\n",
      "115  116        Cumberland       9869\n",
      "116  117   Richmond County       8951\n",
      "117  118           Mathews       8760\n",
      "118  119     Franklin City       8015\n",
      "119  120      Rappahannock       7360\n",
      "120  121         Lexington       7205\n",
      "121  122    King and Queen       7011\n",
      "122  123      Charles City       6965\n",
      "123  124  Buena Vista City       6477\n",
      "124  125             Surry       6459\n",
      "125  126             Galax       6402\n",
      "126  127             Bland       6334\n",
      "127  128         Covington       5653\n",
      "128  129           Emporia       5408\n",
      "129  130             Craig       5103\n",
      "130  131              Bath       4248\n",
      "131  132            Norton       3969\n",
      "132  133          Highland       2202\n"
     ]
    }
   ],
   "source": [
    "# Get all of the counties from populations DataFrame in a list\n",
    "pop_counties = populations['County'].unique()\n",
    "\n",
    "covid_data.at[(covid_data.index[covid_data['Locality'] == 'Charlotte County']),'Locality'] = 'Charlotte'\n",
    "counties = covid_data[\"Locality\"].unique()\n",
    "\n",
    "# For each unique county name in our covid_data main DataFrame\n",
    "for county in counties:\n",
    "    # Use FuzzyWuzzy to find the value in the 'County' column of populations most similar to the value in the 'Locality' column in covid_data\n",
    "    proc = process.extract(county, pop_counties, limit=1)\n",
    "    # The match variable represents the matching county name in populations\n",
    "    (match, score) = proc[0]\n",
    "    # Get the index of that value in our populations frame\n",
    "    index = populations.index[populations['County'] == match]\n",
    "    # Rename the value in our populations frame so that it is identical to its respective county in in covid_data\n",
    "    populations.at[index,'County'] = county\n",
    "    \n",
    "# populations.head()\n",
    "print(populations.to_string())\n",
    "\n"
   ]
  },
  {
   "cell_type": "markdown",
   "metadata": {},
   "source": [
    "Now that the county names match in both our data and population dataframes, we can define a function to pull population information out of our populations DataFrame for counties we are looking at in our county_frames which hold all of our covid data."
   ]
  },
  {
   "cell_type": "code",
   "execution_count": 222,
   "metadata": {},
   "outputs": [],
   "source": [
    "def getPopulation(county: str):\n",
    "    return populations.loc[populations['County'] == county]['Population'].values[0]"
   ]
  },
  {
   "cell_type": "code",
   "execution_count": 223,
   "metadata": {},
   "outputs": [
    {
     "name": "stdout",
     "output_type": "stream",
     "text": [
      "Searching for  Accomack\n",
      "Searching for  Albemarle\n",
      "Searching for  Alleghany\n",
      "Searching for  Amelia\n",
      "Searching for  Amherst\n",
      "Searching for  Appomattox\n",
      "Searching for  Arlington\n",
      "Searching for  Augusta\n",
      "Searching for  Bath\n",
      "Searching for  Bedford\n",
      "Searching for  Bland\n",
      "Searching for  Botetourt\n",
      "Searching for  Brunswick\n",
      "Searching for  Buchanan\n",
      "Searching for  Buckingham\n",
      "Searching for  Campbell\n",
      "Searching for  Caroline\n",
      "Searching for  Carroll\n",
      "Searching for  Charles City\n",
      "Searching for  Charlotte\n",
      "Searching for  Chesterfield\n",
      "Searching for  Clarke\n",
      "Searching for  Craig\n",
      "Searching for  Culpeper\n",
      "Searching for  Cumberland\n",
      "Searching for  Dickenson\n",
      "Searching for  Dinwiddie\n",
      "Searching for  Essex\n",
      "Searching for  Fairfax\n",
      "Searching for  Fauquier\n",
      "Searching for  Floyd\n",
      "Searching for  Fluvanna\n",
      "Searching for  Franklin County\n",
      "Searching for  Frederick\n",
      "Searching for  Giles\n",
      "Searching for  Gloucester\n",
      "Searching for  Goochland\n",
      "Searching for  Grayson\n",
      "Searching for  Greene\n",
      "Searching for  Greensville\n",
      "Searching for  Halifax\n",
      "Searching for  Hanover\n",
      "Searching for  Henrico\n",
      "Searching for  Henry\n",
      "Searching for  Highland\n",
      "Searching for  Isle of Wight\n",
      "Searching for  James City\n",
      "Searching for  King and Queen\n",
      "Searching for  King George\n",
      "Searching for  King William\n",
      "Searching for  Lancaster\n",
      "Searching for  Lee\n",
      "Searching for  Loudoun\n",
      "Searching for  Louisa\n",
      "Searching for  Lunenburg\n",
      "Searching for  Madison\n",
      "Searching for  Mathews\n",
      "Searching for  Mecklenburg\n",
      "Searching for  Middlesex\n",
      "Searching for  Montgomery\n",
      "Searching for  Nelson\n",
      "Searching for  New Kent\n",
      "Searching for  Northampton\n",
      "Searching for  Northumberland\n",
      "Searching for  Nottoway\n",
      "Searching for  Orange\n",
      "Searching for  Page\n",
      "Searching for  Patrick\n",
      "Searching for  Pittsylvania\n",
      "Searching for  Powhatan\n",
      "Searching for  Prince Edward\n",
      "Searching for  Prince George\n",
      "Searching for  Prince William\n",
      "Searching for  Pulaski\n",
      "Searching for  Rappahannock\n",
      "Searching for  Richmond County\n",
      "Searching for  Roanoke County\n",
      "Searching for  Rockbridge\n",
      "Searching for  Rockingham\n",
      "Searching for  Russell\n",
      "Searching for  Scott\n",
      "Searching for  Shenandoah\n",
      "Searching for  Smyth\n",
      "Searching for  Southampton\n",
      "Searching for  Spotsylvania\n",
      "Searching for  Stafford\n",
      "Searching for  Surry\n",
      "Searching for  Sussex\n",
      "Searching for  Tazewell\n",
      "Searching for  Warren\n",
      "Searching for  Washington\n",
      "Searching for  Westmoreland\n",
      "Searching for  Wise\n",
      "Searching for  Wythe\n",
      "Searching for  York\n",
      "Searching for  Alexandria\n",
      "Searching for  Bristol\n",
      "Searching for  Buena Vista City\n",
      "Searching for  Charlottesville\n"
     ]
    },
    {
     "ename": "IndexError",
     "evalue": "index 0 is out of bounds for axis 0 with size 0",
     "output_type": "error",
     "traceback": [
      "\u001b[1;31m---------------------------------------------------------------------------\u001b[0m",
      "\u001b[1;31mIndexError\u001b[0m                                Traceback (most recent call last)",
      "\u001b[1;32m~\\AppData\\Local\\Temp/ipykernel_1352/989315435.py\u001b[0m in \u001b[0;36m<module>\u001b[1;34m\u001b[0m\n\u001b[0;32m      2\u001b[0m \u001b[1;32mfor\u001b[0m \u001b[0mcounty\u001b[0m \u001b[1;32min\u001b[0m \u001b[0mcounties\u001b[0m\u001b[1;33m:\u001b[0m\u001b[1;33m\u001b[0m\u001b[1;33m\u001b[0m\u001b[0m\n\u001b[0;32m      3\u001b[0m     \u001b[0mprint\u001b[0m\u001b[1;33m(\u001b[0m\u001b[1;34m\"Searching for \"\u001b[0m\u001b[1;33m,\u001b[0m\u001b[0mcounty\u001b[0m\u001b[1;33m)\u001b[0m\u001b[1;33m\u001b[0m\u001b[1;33m\u001b[0m\u001b[0m\n\u001b[1;32m----> 4\u001b[1;33m     \u001b[0mgetPopulation\u001b[0m\u001b[1;33m(\u001b[0m\u001b[0mcounty\u001b[0m\u001b[1;33m)\u001b[0m\u001b[1;33m\u001b[0m\u001b[1;33m\u001b[0m\u001b[0m\n\u001b[0m\u001b[0;32m      5\u001b[0m \u001b[1;33m\u001b[0m\u001b[0m\n\u001b[0;32m      6\u001b[0m \u001b[1;31m# getPopulation('Charlotte')\u001b[0m\u001b[1;33m\u001b[0m\u001b[1;33m\u001b[0m\u001b[0m\n",
      "\u001b[1;32m~\\AppData\\Local\\Temp/ipykernel_1352/3238279434.py\u001b[0m in \u001b[0;36mgetPopulation\u001b[1;34m(county)\u001b[0m\n\u001b[0;32m      1\u001b[0m \u001b[1;32mdef\u001b[0m \u001b[0mgetPopulation\u001b[0m\u001b[1;33m(\u001b[0m\u001b[0mcounty\u001b[0m\u001b[1;33m:\u001b[0m \u001b[0mstr\u001b[0m\u001b[1;33m)\u001b[0m\u001b[1;33m:\u001b[0m\u001b[1;33m\u001b[0m\u001b[1;33m\u001b[0m\u001b[0m\n\u001b[1;32m----> 2\u001b[1;33m     \u001b[1;32mreturn\u001b[0m \u001b[0mpopulations\u001b[0m\u001b[1;33m.\u001b[0m\u001b[0mloc\u001b[0m\u001b[1;33m[\u001b[0m\u001b[0mpopulations\u001b[0m\u001b[1;33m[\u001b[0m\u001b[1;34m'County'\u001b[0m\u001b[1;33m]\u001b[0m \u001b[1;33m==\u001b[0m \u001b[0mcounty\u001b[0m\u001b[1;33m]\u001b[0m\u001b[1;33m[\u001b[0m\u001b[1;34m'Population'\u001b[0m\u001b[1;33m]\u001b[0m\u001b[1;33m.\u001b[0m\u001b[0mvalues\u001b[0m\u001b[1;33m[\u001b[0m\u001b[1;36m0\u001b[0m\u001b[1;33m]\u001b[0m\u001b[1;33m\u001b[0m\u001b[1;33m\u001b[0m\u001b[0m\n\u001b[0m",
      "\u001b[1;31mIndexError\u001b[0m: index 0 is out of bounds for axis 0 with size 0"
     ]
    }
   ],
   "source": [
    "vals = []\n",
    "for county in counties:\n",
    "    print(\"Searching for \",county)\n",
    "    getPopulation(county)\n",
    "\n",
    "    "
   ]
  },
  {
   "cell_type": "code",
   "execution_count": null,
   "metadata": {},
   "outputs": [],
   "source": []
  }
 ],
 "metadata": {
  "interpreter": {
   "hash": "0305797186e5b23b2dbde5736499e01b32f3bcfd44ad4b479fc191776976783f"
  },
  "kernelspec": {
   "display_name": "Python 3.9.7 ('base')",
   "language": "python",
   "name": "python3"
  },
  "language_info": {
   "codemirror_mode": {
    "name": "ipython",
    "version": 3
   },
   "file_extension": ".py",
   "mimetype": "text/x-python",
   "name": "python",
   "nbconvert_exporter": "python",
   "pygments_lexer": "ipython3",
   "version": "3.9.7"
  },
  "orig_nbformat": 4
 },
 "nbformat": 4,
 "nbformat_minor": 2
}
