{
 "cells": [
  {
   "cell_type": "markdown",
   "metadata": {},
   "source": [
    "# CMSC320 - Introduction to Data Science\n",
    "## Final Tutorial\n",
    "#### David Martin\n",
    "---"
   ]
  },
  {
   "cell_type": "markdown",
   "metadata": {},
   "source": [
    "**Introduction**\n",
    ">Insert introduction here"
   ]
  },
  {
   "cell_type": "markdown",
   "metadata": {},
   "source": [
    "**Imports**\n",
    "\n",
    "The following is an import list of all the Python modules we use for the following tutorial, as well as some global styling settings."
   ]
  },
  {
   "cell_type": "code",
   "execution_count": 123,
   "metadata": {},
   "outputs": [],
   "source": [
    "import pandas as pd\n",
    "import numpy as np\n",
    "import seaborn as sns\n",
    "import datetime \n",
    "import matplotlib.pyplot as plt\n",
    "import requests\n",
    "from sklearn.linear_model import LinearRegression\n",
    "from fuzzywuzzy import process\n",
    "from bs4 import BeautifulSoup\n",
    "from datetime import date\n",
    "plt.style.use('seaborn-whitegrid')"
   ]
  },
  {
   "cell_type": "markdown",
   "metadata": {},
   "source": [
    "---\n",
    "## Data Collection\n",
    "\n",
    "The purpose of this section is to begin our analysis by collecting our data. We can find publicly available information about many things on government websites, I went to [Virginia's](https://data.virginia.gov) and found a great dataset of COVID reporting data organized by county. Lets use this as our main data set for this analysis.\n",
    "\n",
    "Lets start by pulling the data from the dataset [VDH-COVID-19-PublicUseDataset-Cases](https://data.virginia.gov/Government/VDH-COVID-19-PublicUseDataset-Cases/bre9-aqqr) as found on data.virginia.gov, and taking a look at what it contains:\n",
    "\n",
    "I cloned the dataset and put it in a [GitHub Repository](https://github.com/martindavid1995/Data-Science-Tutorial) in .csv format so that we can have a copy of the data without worrying about it changing on us in the future. We will use [Pandas](https://pandas.pydata.org/pandas-docs/stable/) to read from that .csv and put it into a DataFrame so that we can work with it."
   ]
  },
  {
   "cell_type": "code",
   "execution_count": 83,
   "metadata": {},
   "outputs": [
    {
     "data": {
      "text/html": [
       "<div>\n",
       "<style scoped>\n",
       "    .dataframe tbody tr th:only-of-type {\n",
       "        vertical-align: middle;\n",
       "    }\n",
       "\n",
       "    .dataframe tbody tr th {\n",
       "        vertical-align: top;\n",
       "    }\n",
       "\n",
       "    .dataframe thead th {\n",
       "        text-align: right;\n",
       "    }\n",
       "</style>\n",
       "<table border=\"1\" class=\"dataframe\">\n",
       "  <thead>\n",
       "    <tr style=\"text-align: right;\">\n",
       "      <th></th>\n",
       "      <th>Report Date</th>\n",
       "      <th>FIPS</th>\n",
       "      <th>Locality</th>\n",
       "      <th>VDH Health District</th>\n",
       "      <th>Total Cases</th>\n",
       "      <th>Hospitalizations</th>\n",
       "      <th>Deaths</th>\n",
       "    </tr>\n",
       "  </thead>\n",
       "  <tbody>\n",
       "    <tr>\n",
       "      <th>0</th>\n",
       "      <td>03/17/2020</td>\n",
       "      <td>51001</td>\n",
       "      <td>Accomack</td>\n",
       "      <td>Eastern Shore</td>\n",
       "      <td>0</td>\n",
       "      <td>0</td>\n",
       "      <td>0</td>\n",
       "    </tr>\n",
       "    <tr>\n",
       "      <th>1</th>\n",
       "      <td>03/17/2020</td>\n",
       "      <td>51003</td>\n",
       "      <td>Albemarle</td>\n",
       "      <td>Thomas Jefferson</td>\n",
       "      <td>0</td>\n",
       "      <td>0</td>\n",
       "      <td>0</td>\n",
       "    </tr>\n",
       "    <tr>\n",
       "      <th>2</th>\n",
       "      <td>03/17/2020</td>\n",
       "      <td>51005</td>\n",
       "      <td>Alleghany</td>\n",
       "      <td>Alleghany</td>\n",
       "      <td>0</td>\n",
       "      <td>0</td>\n",
       "      <td>0</td>\n",
       "    </tr>\n",
       "    <tr>\n",
       "      <th>3</th>\n",
       "      <td>03/17/2020</td>\n",
       "      <td>51007</td>\n",
       "      <td>Amelia</td>\n",
       "      <td>Piedmont</td>\n",
       "      <td>0</td>\n",
       "      <td>0</td>\n",
       "      <td>0</td>\n",
       "    </tr>\n",
       "    <tr>\n",
       "      <th>4</th>\n",
       "      <td>03/17/2020</td>\n",
       "      <td>51009</td>\n",
       "      <td>Amherst</td>\n",
       "      <td>Central Virginia</td>\n",
       "      <td>0</td>\n",
       "      <td>0</td>\n",
       "      <td>0</td>\n",
       "    </tr>\n",
       "  </tbody>\n",
       "</table>\n",
       "</div>"
      ],
      "text/plain": [
       "  Report Date   FIPS   Locality VDH Health District  Total Cases  \\\n",
       "0  03/17/2020  51001   Accomack       Eastern Shore            0   \n",
       "1  03/17/2020  51003  Albemarle    Thomas Jefferson            0   \n",
       "2  03/17/2020  51005  Alleghany           Alleghany            0   \n",
       "3  03/17/2020  51007     Amelia            Piedmont            0   \n",
       "4  03/17/2020  51009    Amherst    Central Virginia            0   \n",
       "\n",
       "   Hospitalizations  Deaths  \n",
       "0                 0       0  \n",
       "1                 0       0  \n",
       "2                 0       0  \n",
       "3                 0       0  \n",
       "4                 0       0  "
      ]
     },
     "execution_count": 83,
     "metadata": {},
     "output_type": "execute_result"
    }
   ],
   "source": [
    "# Pull data on COVID cases across Virginia\n",
    "covid_data = pd.read_csv(\"https://raw.githubusercontent.com/martindavid1995/Data-Science-Tutorial/master/Covid_VA.csv\")\n",
    "# Display the first five entries\n",
    "covid_data.head()"
   ]
  },
  {
   "cell_type": "markdown",
   "metadata": {},
   "source": [
    "In looking at this DataFrame, we see our listed columns. Right away we can see that we seem to have reports by county for a number of days which include total cases, hospitalizations, and deaths. Before ending this section, we might want to consider any more information that might be useful for us to get a good understanding of what COVID looks like in Virginia.\n",
    "\n",
    "Since we will likely at some point be observing our data based on county, it might be helpful for us to get an idea of what counties have the largest and smallest populations. For example looking at death rate: three deaths in a single day in a Virginia county with a population of over 1 million people might mean significantly less than three deaths in a county with a population of 4,000 people. This is something we might want to consider when exploring our data, so we should attempt to find some population information for each county."
   ]
  },
  {
   "cell_type": "markdown",
   "metadata": {},
   "source": [
    "A google search of [Virginia Counties by Population](https://www.virginia-demographics.com/counties_by_population) brings us a chart with a value for each of Virginia's 133 counties. While we could sit here and manually enter the populations by hand, we can use python and [BeautifulSoup](https://www.crummy.com/software/BeautifulSoup/bs4/doc/) to strip the population data off this webpage so that we don't have to do all that manual data entry."
   ]
  },
  {
   "cell_type": "code",
   "execution_count": 84,
   "metadata": {},
   "outputs": [
    {
     "data": {
      "text/html": [
       "<div>\n",
       "<style scoped>\n",
       "    .dataframe tbody tr th:only-of-type {\n",
       "        vertical-align: middle;\n",
       "    }\n",
       "\n",
       "    .dataframe tbody tr th {\n",
       "        vertical-align: top;\n",
       "    }\n",
       "\n",
       "    .dataframe thead th {\n",
       "        text-align: right;\n",
       "    }\n",
       "</style>\n",
       "<table border=\"1\" class=\"dataframe\">\n",
       "  <thead>\n",
       "    <tr style=\"text-align: right;\">\n",
       "      <th></th>\n",
       "      <th>Rank</th>\n",
       "      <th>County</th>\n",
       "      <th>Population</th>\n",
       "    </tr>\n",
       "  </thead>\n",
       "  <tbody>\n",
       "    <tr>\n",
       "      <th>0</th>\n",
       "      <td>1</td>\n",
       "      <td>Fairfax County</td>\n",
       "      <td>1149439</td>\n",
       "    </tr>\n",
       "    <tr>\n",
       "      <th>1</th>\n",
       "      <td>2</td>\n",
       "      <td>Prince William County</td>\n",
       "      <td>466834</td>\n",
       "    </tr>\n",
       "    <tr>\n",
       "      <th>2</th>\n",
       "      <td>3</td>\n",
       "      <td>Virginia Beach city/county</td>\n",
       "      <td>450882</td>\n",
       "    </tr>\n",
       "    <tr>\n",
       "      <th>3</th>\n",
       "      <td>4</td>\n",
       "      <td>Loudoun County</td>\n",
       "      <td>405312</td>\n",
       "    </tr>\n",
       "    <tr>\n",
       "      <th>4</th>\n",
       "      <td>5</td>\n",
       "      <td>Chesterfield County</td>\n",
       "      <td>348500</td>\n",
       "    </tr>\n",
       "  </tbody>\n",
       "</table>\n",
       "</div>"
      ],
      "text/plain": [
       "  Rank                      County Population\n",
       "0    1              Fairfax County    1149439\n",
       "1    2       Prince William County     466834\n",
       "2    3  Virginia Beach city/county     450882\n",
       "3    4              Loudoun County     405312\n",
       "4    5         Chesterfield County     348500"
      ]
     },
     "execution_count": 84,
     "metadata": {},
     "output_type": "execute_result"
    }
   ],
   "source": [
    "# Use requests to pull data from URL\n",
    "r = requests.get(\"https://www.virginia-demographics.com/counties_by_population\")\n",
    "# Use BeautifulSoup to parse the request's HTML\n",
    "soup = BeautifulSoup(r.content, 'html.parser')\n",
    "# Find the table object and prettify it\n",
    "table = soup.find('table').prettify()\n",
    "# Convert the table into a DataFrame\n",
    "populations = pd.read_html(str(table))[0]\n",
    "# Drop the last row because it has data we don't need\n",
    "populations = populations.drop(index=len(populations.index)-1)\n",
    "# Display the first five entries\n",
    "populations.head()"
   ]
  },
  {
   "cell_type": "markdown",
   "metadata": {},
   "source": [
    "Perfect! Now we have all of the data we are going to need for this analysis. We have our COVID reporting data, and we have our population sizes for each of our 133 Virginian counties. In the next section, we will begin manipulating these DataFrames so that we are able to have all the information we need to perform our data visualization."
   ]
  },
  {
   "cell_type": "markdown",
   "metadata": {},
   "source": [
    "---\n",
    "## Data Management/Representation\n",
    "\n",
    "In this section, we will begin modifying our data to contain the information that we need to perform our data visualization. Before we start changing things too much, lets try to get an idea of what our dataset looks like. We might ask to know how many rows of data do we have? What day does the data start and when does it end? Are all of the 133 counties in Virginia represented in our main dataset? Does each county have a report for each day? \n",
    "\n",
    "Lets start answering these questions by figuring out how many entries we have in our `covid_data` DataFrame."
   ]
  },
  {
   "cell_type": "code",
   "execution_count": 85,
   "metadata": {},
   "outputs": [
    {
     "name": "stdout",
     "output_type": "stream",
     "text": [
      "Total number of columns in the dataset:  103607\n"
     ]
    }
   ],
   "source": [
    "print(\"Total number of columns in the dataset: \",len(covid_data.index))"
   ]
  },
  {
   "cell_type": "markdown",
   "metadata": {},
   "source": [
    "So `covid_data` holds quite a bit of information. Over 100,000 rows where each row represents a single counties report on a given day. Next, lets try to see what the dates of the oldest and most recent reports are."
   ]
  },
  {
   "cell_type": "code",
   "execution_count": 86,
   "metadata": {},
   "outputs": [
    {
     "name": "stdout",
     "output_type": "stream",
     "text": [
      "Min:  01/01/2021\n",
      "Max:  12/31/2021\n"
     ]
    }
   ],
   "source": [
    "# Prints the minimum and maximum values of a specified column in a DataFrame\n",
    "def printMinMax(df, column):\n",
    "    print(\"Min: \",df[column].min())\n",
    "    print(\"Max: \",df[column].max())\n",
    "    \n",
    "printMinMax(covid_data, \"Report Date\")"
   ]
  },
  {
   "cell_type": "markdown",
   "metadata": {},
   "source": [
    "If we look at the results of the above cell, we notice our first issue with this dataset. The date range from the days above shows January 1, 2021 as being the earliest recorded date when we can clearly see from the head output in the above cells that we have columns with dates going back into 2020. This must be because there is some inability to compare these date objects in the current dataframe accurately. Lets convert the dates into DateTime objects so we can figure out our actual date range, and manipulate and visualize our data better."
   ]
  },
  {
   "cell_type": "code",
   "execution_count": 87,
   "metadata": {},
   "outputs": [],
   "source": [
    "# Split each date string into its components\n",
    "def dateToDateTime(date: str):\n",
    "    split = date.split(\"/\")\n",
    "    month = int(split[0])\n",
    "    day = int(split[1])\n",
    "    year = int(split[2])\n",
    "    # Return a new DateTime object \n",
    "    return datetime.date(year, month, day)\n",
    "    \n",
    "# Convert each row's Report Date into a readable DateTime\n",
    "def convertDateTime(df):\n",
    "    datetimes = []\n",
    "    for index in df.index:\n",
    "        date = df.at[index, \"Report Date\"]\n",
    "        datetimes.append(dateToDateTime(date))\n",
    "    \n",
    "    # Add the new DateTimes to the original DataFrame\n",
    "    df['Time'] = datetimes\n",
    "    return df\n",
    "\n",
    "covid_data = convertDateTime(covid_data)"
   ]
  },
  {
   "cell_type": "markdown",
   "metadata": {},
   "source": [
    "We can also go ahead and organize our columns and drop the ones we won't be needing."
   ]
  },
  {
   "cell_type": "code",
   "execution_count": 88,
   "metadata": {},
   "outputs": [
    {
     "data": {
      "text/html": [
       "<div>\n",
       "<style scoped>\n",
       "    .dataframe tbody tr th:only-of-type {\n",
       "        vertical-align: middle;\n",
       "    }\n",
       "\n",
       "    .dataframe tbody tr th {\n",
       "        vertical-align: top;\n",
       "    }\n",
       "\n",
       "    .dataframe thead th {\n",
       "        text-align: right;\n",
       "    }\n",
       "</style>\n",
       "<table border=\"1\" class=\"dataframe\">\n",
       "  <thead>\n",
       "    <tr style=\"text-align: right;\">\n",
       "      <th></th>\n",
       "      <th>Time</th>\n",
       "      <th>Locality</th>\n",
       "      <th>Total Cases</th>\n",
       "      <th>Hospitalizations</th>\n",
       "      <th>Deaths</th>\n",
       "    </tr>\n",
       "  </thead>\n",
       "  <tbody>\n",
       "    <tr>\n",
       "      <th>0</th>\n",
       "      <td>2020-03-17</td>\n",
       "      <td>Accomack</td>\n",
       "      <td>0</td>\n",
       "      <td>0</td>\n",
       "      <td>0</td>\n",
       "    </tr>\n",
       "    <tr>\n",
       "      <th>1</th>\n",
       "      <td>2020-03-17</td>\n",
       "      <td>Albemarle</td>\n",
       "      <td>0</td>\n",
       "      <td>0</td>\n",
       "      <td>0</td>\n",
       "    </tr>\n",
       "    <tr>\n",
       "      <th>2</th>\n",
       "      <td>2020-03-17</td>\n",
       "      <td>Alleghany</td>\n",
       "      <td>0</td>\n",
       "      <td>0</td>\n",
       "      <td>0</td>\n",
       "    </tr>\n",
       "    <tr>\n",
       "      <th>3</th>\n",
       "      <td>2020-03-17</td>\n",
       "      <td>Amelia</td>\n",
       "      <td>0</td>\n",
       "      <td>0</td>\n",
       "      <td>0</td>\n",
       "    </tr>\n",
       "    <tr>\n",
       "      <th>4</th>\n",
       "      <td>2020-03-17</td>\n",
       "      <td>Amherst</td>\n",
       "      <td>0</td>\n",
       "      <td>0</td>\n",
       "      <td>0</td>\n",
       "    </tr>\n",
       "  </tbody>\n",
       "</table>\n",
       "</div>"
      ],
      "text/plain": [
       "         Time   Locality  Total Cases  Hospitalizations  Deaths\n",
       "0  2020-03-17   Accomack            0                 0       0\n",
       "1  2020-03-17  Albemarle            0                 0       0\n",
       "2  2020-03-17  Alleghany            0                 0       0\n",
       "3  2020-03-17     Amelia            0                 0       0\n",
       "4  2020-03-17    Amherst            0                 0       0"
      ]
     },
     "execution_count": 88,
     "metadata": {},
     "output_type": "execute_result"
    }
   ],
   "source": [
    "# Drop columns that we don't need\n",
    "covid_data = covid_data.drop(columns=['Report Date', 'FIPS', 'VDH Health District'])\n",
    "\n",
    "# Reorder columns in a format that we prefer\n",
    "cols = ['Time', 'Locality', 'Total Cases', 'Hospitalizations', 'Deaths']\n",
    "covid_data = covid_data[cols]\n",
    "covid_data.head()"
   ]
  },
  {
   "cell_type": "markdown",
   "metadata": {},
   "source": [
    "With the new DateTime column added, lets check to see what our actual date range looks like for this dataset."
   ]
  },
  {
   "cell_type": "code",
   "execution_count": 89,
   "metadata": {},
   "outputs": [
    {
     "name": "stdout",
     "output_type": "stream",
     "text": [
      "Min:  2020-03-17\n",
      "Max:  2022-05-04\n"
     ]
    }
   ],
   "source": [
    "printMinMax(covid_data, \"Time\")"
   ]
  },
  {
   "cell_type": "markdown",
   "metadata": {},
   "source": [
    "Now we have a column with dates that we can actually compare in our data analysis. We can see that our data's report dates span from March 2020 to May 2022. Lets see what counties we have, how many dates are recorded, and see if each county has a report for each date."
   ]
  },
  {
   "cell_type": "code",
   "execution_count": 90,
   "metadata": {},
   "outputs": [
    {
     "name": "stdout",
     "output_type": "stream",
     "text": [
      "There are  133  unique counties\n",
      "There are  779  unique dates\n",
      "Each date has  133  unique entries\n"
     ]
    }
   ],
   "source": [
    "# Get a list of the unique counties\n",
    "counties = covid_data[\"Locality\"].unique()\n",
    "# Display how many unique counties are in our dataset\n",
    "print(\"There are \",len(counties),\" unique counties\")\n",
    "\n",
    "# Figure out how many unique dates we have data for\n",
    "dates = covid_data[\"Time\"].unique()\n",
    "# Display how many unique dates we have\n",
    "print(\"There are \",len(dates),\" unique dates\")\n",
    "\n",
    "# Get the number of rows containing each unique date in our dataset\n",
    "date_counts = covid_data[\"Time\"].value_counts()\n",
    "unique_dates = date_counts.unique()\n",
    "# Display the unique date count values\n",
    "print(\"Each date has \",unique_dates[0],\" unique entries\")"
   ]
  },
  {
   "cell_type": "markdown",
   "metadata": {},
   "source": [
    "This above cell gives us a lot of great information. We now know that we have 133 Virginia counties whose COVID reporting data is in this dataset. We also know that each of the 133 counties has reported COVID data for each of the 779 dates recorded in this table. This is great news for us as it means there shouldn't be any missing data that we need to account for."
   ]
  },
  {
   "cell_type": "markdown",
   "metadata": {},
   "source": [
    "Unfortunately, the data provided from the Virginia website only records cumulative data. This means that instead of each county reporting their number of new cases, hospitalizations, and deaths each day, they only report the running total of cases they have in each category since reporting began. While this is important information, it might be useful for us to gather the new reported cases for each date. \n",
    "\n",
    "Having a daily report amount give us an easier way to visualize which dates have higher case, hospitalization, and death rates. We can use the difference in values between consecutive days in order to determine how many new cases are reported each day.\n",
    "\n",
    "While we're at it, we should separate our DataFrames by county, since we will be looking at individual counties in our data analysis. Lets go ahead and do this manipulation."
   ]
  },
  {
   "cell_type": "code",
   "execution_count": 91,
   "metadata": {},
   "outputs": [
    {
     "data": {
      "text/html": [
       "<div>\n",
       "<style scoped>\n",
       "    .dataframe tbody tr th:only-of-type {\n",
       "        vertical-align: middle;\n",
       "    }\n",
       "\n",
       "    .dataframe tbody tr th {\n",
       "        vertical-align: top;\n",
       "    }\n",
       "\n",
       "    .dataframe thead th {\n",
       "        text-align: right;\n",
       "    }\n",
       "</style>\n",
       "<table border=\"1\" class=\"dataframe\">\n",
       "  <thead>\n",
       "    <tr style=\"text-align: right;\">\n",
       "      <th></th>\n",
       "      <th>Time</th>\n",
       "      <th>Locality</th>\n",
       "      <th>Total Cases</th>\n",
       "      <th>Hospitalizations</th>\n",
       "      <th>Deaths</th>\n",
       "      <th>Total Cases Per Day</th>\n",
       "      <th>Hospitalizations Per Day</th>\n",
       "      <th>Deaths Per Day</th>\n",
       "    </tr>\n",
       "  </thead>\n",
       "  <tbody>\n",
       "    <tr>\n",
       "      <th>0</th>\n",
       "      <td>2020-03-17</td>\n",
       "      <td>Brunswick</td>\n",
       "      <td>0</td>\n",
       "      <td>0</td>\n",
       "      <td>0</td>\n",
       "      <td>0</td>\n",
       "      <td>0</td>\n",
       "      <td>0</td>\n",
       "    </tr>\n",
       "    <tr>\n",
       "      <th>1</th>\n",
       "      <td>2020-03-18</td>\n",
       "      <td>Brunswick</td>\n",
       "      <td>0</td>\n",
       "      <td>0</td>\n",
       "      <td>0</td>\n",
       "      <td>0</td>\n",
       "      <td>0</td>\n",
       "      <td>0</td>\n",
       "    </tr>\n",
       "    <tr>\n",
       "      <th>2</th>\n",
       "      <td>2020-03-19</td>\n",
       "      <td>Brunswick</td>\n",
       "      <td>0</td>\n",
       "      <td>0</td>\n",
       "      <td>0</td>\n",
       "      <td>0</td>\n",
       "      <td>0</td>\n",
       "      <td>0</td>\n",
       "    </tr>\n",
       "    <tr>\n",
       "      <th>3</th>\n",
       "      <td>2020-03-20</td>\n",
       "      <td>Brunswick</td>\n",
       "      <td>0</td>\n",
       "      <td>0</td>\n",
       "      <td>0</td>\n",
       "      <td>0</td>\n",
       "      <td>0</td>\n",
       "      <td>0</td>\n",
       "    </tr>\n",
       "    <tr>\n",
       "      <th>4</th>\n",
       "      <td>2020-03-21</td>\n",
       "      <td>Brunswick</td>\n",
       "      <td>0</td>\n",
       "      <td>0</td>\n",
       "      <td>0</td>\n",
       "      <td>0</td>\n",
       "      <td>0</td>\n",
       "      <td>0</td>\n",
       "    </tr>\n",
       "  </tbody>\n",
       "</table>\n",
       "</div>"
      ],
      "text/plain": [
       "         Time   Locality  Total Cases  Hospitalizations  Deaths  \\\n",
       "0  2020-03-17  Brunswick            0                 0       0   \n",
       "1  2020-03-18  Brunswick            0                 0       0   \n",
       "2  2020-03-19  Brunswick            0                 0       0   \n",
       "3  2020-03-20  Brunswick            0                 0       0   \n",
       "4  2020-03-21  Brunswick            0                 0       0   \n",
       "\n",
       "   Total Cases Per Day  Hospitalizations Per Day  Deaths Per Day  \n",
       "0                    0                         0               0  \n",
       "1                    0                         0               0  \n",
       "2                    0                         0               0  \n",
       "3                    0                         0               0  \n",
       "4                    0                         0               0  "
      ]
     },
     "execution_count": 91,
     "metadata": {},
     "output_type": "execute_result"
    }
   ],
   "source": [
    "# Takes a dataframe for a specific county and adds a column that shows the number of new cases reported for each report date\n",
    "def genColumnDifference(df, column):\n",
    "    offsets = []\n",
    "    # For each row in the dataframe\n",
    "    for index in df.index:\n",
    "        if index == 0:\n",
    "            offsets.append(0)\n",
    "        else:\n",
    "            # Compute the difference in the specified column of the current report date minus the previous report date\n",
    "            offsets.append(df.at[index, column] - df.at[index-1, column])\n",
    "    # Append this column to the dataframe\n",
    "    df[column+\" Per Day\"] = offsets\n",
    "    return df\n",
    "\n",
    "county_frames = []\n",
    "# For each county \n",
    "for county in counties:\n",
    "    # Construct a new dataframe consisting only of rows corresponding to this county\n",
    "    county_frame = covid_data.loc[covid_data[\"Locality\"] == county]\n",
    "    # Reset the indices\n",
    "    county_frame = county_frame.reset_index(drop=True)\n",
    "    # Get the column differences for Total Cases, Hospitalizations, and Deaths\n",
    "    county_frame = genColumnDifference(county_frame, \"Total Cases\")\n",
    "    county_frame = genColumnDifference(county_frame, \"Hospitalizations\")\n",
    "    county_frame = genColumnDifference(county_frame, \"Deaths\")\n",
    "    # Add it to our list of counties\n",
    "    county_frames.append(county_frame)\n",
    "\n",
    "county_frames[12].head()"
   ]
  },
  {
   "cell_type": "markdown",
   "metadata": {},
   "source": [
    "Now that we have the daily counts for each metric divided into separate DataFrames for each of our counties, we need to make sure we can easily pull the population counts for each county to help in our analysis. Ideally, we will define a function where we can pass in the `Locality` value from a row in the `covid_data` frame, and get the resulting population for that county out of our `populations` frame. \n",
    "\n",
    "Unfortunately, counties are do not have the same naming conventions between the two DataFrames. For example, if we are looking for the population for **\"Fairfax\"** as written in `covid_data`, its corresponding value is titled **\"Fairfax County\"** in the `populations` DataFrame. We need to modify these values so that we can use the same lookup key to easily access this information in the future. \n",
    "\n",
    "We can use this by using the Python library [FuzzyWuzzy](https://pypi.org/project/fuzzywuzzy/) to compute [Levenshtein distance](https://en.wikipedia.org/wiki/Levenshtein_distance) between pairs of strings. We can then use these measures to match our county names in one frame to line them up with one another. We will find the best matching strings for these two columns and change the value in the `County` column in the `populations` frame to match its respective county in the `Locality` column in the `covid_data` frame."
   ]
  },
  {
   "cell_type": "code",
   "execution_count": 92,
   "metadata": {},
   "outputs": [
    {
     "data": {
      "text/html": [
       "<div>\n",
       "<style scoped>\n",
       "    .dataframe tbody tr th:only-of-type {\n",
       "        vertical-align: middle;\n",
       "    }\n",
       "\n",
       "    .dataframe tbody tr th {\n",
       "        vertical-align: top;\n",
       "    }\n",
       "\n",
       "    .dataframe thead th {\n",
       "        text-align: right;\n",
       "    }\n",
       "</style>\n",
       "<table border=\"1\" class=\"dataframe\">\n",
       "  <thead>\n",
       "    <tr style=\"text-align: right;\">\n",
       "      <th></th>\n",
       "      <th>Rank</th>\n",
       "      <th>County</th>\n",
       "      <th>Population</th>\n",
       "    </tr>\n",
       "  </thead>\n",
       "  <tbody>\n",
       "    <tr>\n",
       "      <th>0</th>\n",
       "      <td>1</td>\n",
       "      <td>Fairfax</td>\n",
       "      <td>1149439</td>\n",
       "    </tr>\n",
       "    <tr>\n",
       "      <th>1</th>\n",
       "      <td>2</td>\n",
       "      <td>Prince William</td>\n",
       "      <td>466834</td>\n",
       "    </tr>\n",
       "    <tr>\n",
       "      <th>2</th>\n",
       "      <td>3</td>\n",
       "      <td>Virginia Beach</td>\n",
       "      <td>450882</td>\n",
       "    </tr>\n",
       "    <tr>\n",
       "      <th>3</th>\n",
       "      <td>4</td>\n",
       "      <td>Loudoun</td>\n",
       "      <td>405312</td>\n",
       "    </tr>\n",
       "    <tr>\n",
       "      <th>4</th>\n",
       "      <td>5</td>\n",
       "      <td>Chesterfield</td>\n",
       "      <td>348500</td>\n",
       "    </tr>\n",
       "  </tbody>\n",
       "</table>\n",
       "</div>"
      ],
      "text/plain": [
       "  Rank          County Population\n",
       "0    1         Fairfax    1149439\n",
       "1    2  Prince William     466834\n",
       "2    3  Virginia Beach     450882\n",
       "3    4         Loudoun     405312\n",
       "4    5    Chesterfield     348500"
      ]
     },
     "execution_count": 92,
     "metadata": {},
     "output_type": "execute_result"
    }
   ],
   "source": [
    "# Get all of the counties from populations DataFrame in a list\n",
    "pop_counties = populations['County'].unique()\n",
    "\n",
    "# For each unique county name in our covid_data main DataFrame\n",
    "for county in counties:\n",
    "    # Use FuzzyWuzzy to find the value in the 'County' column of populations most similar to the value in the 'Locality' column in covid_data\n",
    "    proc = process.extract(county, pop_counties, limit=1)\n",
    "    # The match variable represents the matching county name in populations\n",
    "    (match, score) = proc[0]\n",
    "    # Get the index of that value in our populations frame\n",
    "    index = populations.index[populations['County'] == match]\n",
    "    # Rename the value in our populations frame so that it is identical to its respective county in in covid_data\n",
    "    populations.at[index,'County'] = county\n",
    "    \n",
    "populations.head()"
   ]
  },
  {
   "cell_type": "markdown",
   "metadata": {},
   "source": [
    "Lets quickly define a function to pull the population of any `Locality` from our main `covid_data` database. While we're at it, lets run a quick check to make sure we can pull a population value for each entry in our `covid_data` DataFrame. "
   ]
  },
  {
   "cell_type": "code",
   "execution_count": 93,
   "metadata": {},
   "outputs": [],
   "source": [
    "def getPopulation(county: str):\n",
    "    return populations.loc[populations['County'] == county]['Population'].values[0]"
   ]
  },
  {
   "cell_type": "code",
   "execution_count": 94,
   "metadata": {},
   "outputs": [
    {
     "name": "stdout",
     "output_type": "stream",
     "text": [
      "Found  0  mismatched values between our two DataFrames\n"
     ]
    }
   ],
   "source": [
    "# There is one county that doesn't match up in our populations DataFrame\n",
    "for index in populations.index:\n",
    "    # Find the bad county and manually fix it\n",
    "    if populations.at[index, 'County'] == 'Charlotte County':\n",
    "        populations.at[index, 'County'] = 'Charlottesville'\n",
    "   \n",
    "\n",
    "\n",
    "# Get the unique county names in each frame\n",
    "population_counties = populations['County'].unique()\n",
    "covid_data_counties = covid_data['Locality'].unique()\n",
    "# Check for any that don't match\n",
    "mismatched_values = 0\n",
    "for ct in population_counties:\n",
    "    if ct not in covid_data_counties:\n",
    "        mismatched_values += 1\n",
    "\n",
    "print(\"Found \",mismatched_values,\" mismatched values between our two DataFrames\")"
   ]
  },
  {
   "cell_type": "markdown",
   "metadata": {},
   "source": [
    "Excellent! Now we can easily look up a counties population by just plugging in the `Locality` value in `covid_data` for that county."
   ]
  },
  {
   "cell_type": "markdown",
   "metadata": {},
   "source": [
    "Lets make sure that our `populations` frame is using data types that we can work with, and change them if needed."
   ]
  },
  {
   "cell_type": "code",
   "execution_count": 95,
   "metadata": {},
   "outputs": [
    {
     "data": {
      "text/plain": [
       "Rank          object\n",
       "County        object\n",
       "Population    object\n",
       "dtype: object"
      ]
     },
     "execution_count": 95,
     "metadata": {},
     "output_type": "execute_result"
    }
   ],
   "source": [
    "populations.dtypes"
   ]
  },
  {
   "cell_type": "code",
   "execution_count": 96,
   "metadata": {},
   "outputs": [
    {
     "data": {
      "text/plain": [
       "Rank          object\n",
       "County        object\n",
       "Population     int32\n",
       "dtype: object"
      ]
     },
     "execution_count": 96,
     "metadata": {},
     "output_type": "execute_result"
    }
   ],
   "source": [
    "# We are going to need the Population column to be represented as an integer\n",
    "populations = populations.astype({'Population':'int'})\n",
    "populations.dtypes"
   ]
  },
  {
   "cell_type": "markdown",
   "metadata": {},
   "source": [
    "Next, lets use our population data to obtain some per-capita values. We can simply divide the total number of cases, hospitalizations, and deaths for any given date by that particular counties population as saved in our `populations` DataFrame. Having per-capita values will allow us to standardize these counts across counties with varying populations and help us make a decision on if counties with populations have higher contraction rates."
   ]
  },
  {
   "cell_type": "code",
   "execution_count": 97,
   "metadata": {},
   "outputs": [],
   "source": [
    "# Returns the county name of a DataFrame\n",
    "def getName(df):\n",
    "    return df.iloc[0,1]\n",
    "\n",
    "# \n",
    "def genPerCapita(df, column):\n",
    "    newCol = []\n",
    "    pop = getPopulation(getName(df))\n",
    "    \n",
    "    for index in df.index:\n",
    "        newCol.append(df.at[index, column]/pop)\n",
    "        \n",
    "    df[column+' Per Capita'] = newCol\n",
    "    return df\n",
    "\n",
    "for county in county_frames:\n",
    "    county = genPerCapita(county, 'Total Cases')\n",
    "    county = genPerCapita(county, 'Hospitalizations')\n",
    "    county = genPerCapita(county, 'Deaths')\n",
    "\n"
   ]
  },
  {
   "cell_type": "markdown",
   "metadata": {},
   "source": [
    "Our county DataFrames now contain all of the information we need. Adding these per-capita measures allow us to see what percentage of each counties population has contracted COVID, or has been hospitalized, or has passed. This should do a lot to help us determine the COVID rates county by county. \n",
    "\n",
    "This concludes the **Data Management** section of the tutorial. Our data is now set up in a way where we can visualize it and perform some analysis. In the next section, we will begin doing just that."
   ]
  },
  {
   "cell_type": "markdown",
   "metadata": {},
   "source": [
    "---\n",
    "## Exploratory Data Analysis\n",
    "\n",
    "In this section, we will being visualizing and interpreting the COVID data for the state of Virginia. We will be using `Matplotlib` as our main visualization tool. \n"
   ]
  },
  {
   "cell_type": "markdown",
   "metadata": {},
   "source": [
    "Lets start by looking COVID data by simply plotting our `Total Cases` over time from our original dataset. We can use `Matplotlib` to achieve this rather easily. Let's first create a utility function to easily create a standard `Matplotlib.plot()`, and then plot `Total Cases` over `Time`"
   ]
  },
  {
   "cell_type": "code",
   "execution_count": 98,
   "metadata": {},
   "outputs": [],
   "source": [
    "def makePlot(frame, x_col, y_col,title):\n",
    "    # Create axes\n",
    "    ax = plt.axes()\n",
    "    \n",
    "    # Extract and plot the values\n",
    "    x = frame[x_col]\n",
    "    y = frame[y_col]\n",
    "    ax.plot(x,y)\n",
    "        \n",
    "    # Set labels and title\n",
    "    plt.xlabel(x_col)\n",
    "    plt.ylabel(y_col)\n",
    "    plt.title(title)\n",
    "    # Rotate ticks\n",
    "    plt.xticks(rotation=90)\n",
    "    # Set the lower bound of the y-axis to 0\n",
    "    plt.ylim(0)\n",
    "    plt.show()\n"
   ]
  },
  {
   "cell_type": "code",
   "execution_count": 99,
   "metadata": {},
   "outputs": [
    {
     "data": {
      "image/png": "[encoded data removed]",
      "text/plain": [
       "<Figure size 432x288 with 1 Axes>"
      ]
     },
     "metadata": {},
     "output_type": "display_data"
    }
   ],
   "source": [
    "makePlot(covid_data, \"Time\", \"Total Cases\", \"Cumulative COVID positive cases in Virginia\")"
   ]
  },
  {
   "cell_type": "markdown",
   "metadata": {},
   "source": [
    "As expected, the total number COVID cases in Virginia goes up over time. This is pretty intuitive as there is no way for the total cases to go down because it is a cumulative measure. From this chart we can gather some information about COVID contraction rates. We see two sections with steep slopes - January 2020 and January 2021 show massive relative spikes in total cases state-wide. This comes as no surprise, as the winter months involved cold/flu season as well as lots of family gatherings which might have increase the rate of spread.\n",
    "\n",
    "In my opinion, plotting cases in this manner can be rather misleading. To me this chart make it look like COVID is getting way worse over time. From a glance, it could be misinterpreted to think that today there are way more people getting sick from COVID today than there were a last year simply because the most recent point on the graph will always be the highest point. To get an idea of seriously COVID is spreading at any point in time on the above chart, you must look at the slope at that point, and not the height of the point.\n",
    "\n",
    "I think that it will be a lot more representative to see what the cases per day looks like if we want a better understanding of when COVID is at its worst in Virginia. Lets now plot the the `Total Cases Per Day` column as we computed previously across all counties to get a better view of the impact COVID has on Virginia residents. "
   ]
  },
  {
   "cell_type": "code",
   "execution_count": 100,
   "metadata": {},
   "outputs": [
    {
     "data": {
      "image/png": "[encoded data removed]",
      "text/plain": [
       "<Figure size 432x288 with 1 Axes>"
      ]
     },
     "metadata": {},
     "output_type": "display_data"
    }
   ],
   "source": [
    "covid_data_enhanced = pd.concat(county_frames)\n",
    "covid_data_enhanced = covid_data_enhanced.sort_values('Time', ascending=True)\n",
    "\n",
    "makePlot(covid_data_enhanced, \"Time\", \"Total Cases Per Day\", \"New COVID Cases Per Day in Virginia\")"
   ]
  },
  {
   "cell_type": "markdown",
   "metadata": {},
   "source": [
    "Now we have a much better picture of what COVID looks like in Virginia across time. From this chart we can see the same peaks in new cases that we saw in the previous chart - they're pretty significant. Between Dec. 2020 and January 2021, Virginia counties reported between 200-1000 new cases a day, with one spike day around 1500 new cases. As we move into April 2021, new cases significantly diminish and we see around July 2021 the number of new cases being reported in Virginia is very minimal. \n",
    "\n",
    "As we move into the end of 2021 and the beginning of 2022, we see a massive spike in new cases. During that period, we have a daily average of around 1500 cases with two spikes up to 6500 and about 4200 new cases every day. As compared to the spike in 2020/2021, this new spike is visibly way worse. From a glance, the second spike looks about three times as significant as the first.\n",
    "\n",
    "We should take a moment to address the fact that an increase in cases reported does not neccesarily imply a **proportional** increase in people contracting the virus. There are many factors outside of actual virus contraction rates that could influence these values such as: availability of testing, increased awareness, mandatory testing requirements of institutions, and many others. While we do see a massive spike in cases reported some of this increase may be attributed to these reasons. As we continue our analysis we should keep this in mind.\n",
    "\n",
    "Aside from these two spikes though, new cases remain relatively low in Virginia rarely passing above 100-200 a day. In a state with over 8.5 million residents, these numbers are very low. We can also see now a bit of a rise right towards the end of the graph, implying that we might be looking at beginnings of a new spike in cases right now. \n",
    "\n",
    "Not only does visualizing the data in this manner give us an insight on when COVID is spiking and when it isn't, it gives us a better visual representation that shows us how much larger the more recent surge was compared to the surge around Christmas time a year ago. \n",
    "\n",
    "Next, Lets take a look at hospitalization rates across all of Virginia."
   ]
  },
  {
   "cell_type": "code",
   "execution_count": 101,
   "metadata": {},
   "outputs": [
    {
     "data": {
      "image/png": "[encoded data removed]",
      "text/plain": [
       "<Figure size 432x288 with 1 Axes>"
      ]
     },
     "metadata": {},
     "output_type": "display_data"
    }
   ],
   "source": [
    "makePlot(covid_data_enhanced, \"Time\", \"Hospitalizations Per Day\", \"COVID Hospitalizations Per Day in Virginia\")"
   ]
  },
  {
   "cell_type": "markdown",
   "metadata": {},
   "source": [
    "The hospitalizations per day over time match up similarly to the new cases per day. The values are significantly lower, but we can see very similar peaks around the winter months of the past two years as in the above visualization of cases. This comes as little surprise as if there are more people sick at a given time, we would expect to see more people hospitalized. We do notice, however, one discrepancy right towards the beginning of our data collection around April 2020 which shows a relatively large spike in hospitalizations. If we compare this section in the hospitalization chart with its corresponding section in the cases per day chart, it appears that the ratio of hospitalizations per cases towards the beginning of reporting was a bit higher than it is now. This is likely due to a lack in understanding of the severity of COVID. When there was little known about the pandemic there was likely a lower symptom threshold for hospitalizing a patient, as doctors simply didn't know well the average person could fight off the virus. \n",
    "\n",
    "The last thing we should assess when looking at the entirety of Virginia cases is the daily deaths. Lets plot that now."
   ]
  },
  {
   "cell_type": "code",
   "execution_count": 102,
   "metadata": {},
   "outputs": [
    {
     "data": {
      "image/png": "[encoded data removed]",
      "text/plain": [
       "<Figure size 432x288 with 1 Axes>"
      ]
     },
     "metadata": {},
     "output_type": "display_data"
    }
   ],
   "source": [
    "makePlot(covid_data_enhanced, \"Time\", \"Deaths Per Day\", \"COVID Deaths Per Day in Virginia\")"
   ]
  },
  {
   "cell_type": "markdown",
   "metadata": {},
   "source": [
    "The deaths per day chart takes a bit of a departure from the above two plots. We see somewhat of a downward trend in daily deaths, especially when we consider the upward trend in new cases in hospitalizations when looking at the peaks. Despite the massive increase in cases and hospitalizations in the second winter peak as compared to the first, the number of deaths per day during the second peak is not consistent with this increase. From a glance we can see that the second peak appears to have roughly the same, if not slightly less deaths per day than the first peak.\n",
    "\n",
    "This observation could be influenced by a number of factors. The first to consider would be what we stated above which was the fact that an increase in new cases reported does not neccesarily imply a **proportional** increase in people getting sick. Another factor would be medical research's ability to treat critical patients for the virus - as we understand more about how COVID impacts the body, medicine is bound to get more effective at treating sick patients which would likely increase survival rates. A third consideration would be the differences between virus variants. During January 2021 there was a belief that the Omicron variant was spreading rapidly and there was word that this variant was more contagious but had less of a physical impact on people. This claim would be supported by these charts showing that while many people were getting sick during the second surge, not a lot of people were dying. \n",
    "\n",
    "Virginia also saw a peak in reported deaths at the beginning of our dataset that was very similar to the peak seen during the first winter spike. While the cases were lower during this early reporting period, the deaths per day is fairly similar. This could be due to either underreporting of cases during this time, or a lower ability for doctors to treat high-risk patients with severe cases of the virus. Either way, when looking solely at the peak moments on this deaths per day chart while factoring in reported cases, over time the deadliness of COVID appears to be going down. \n",
    "\n",
    "To get a better idea of how the deadliness of COVID over time, lets do a little more data manipulation to observe of those who contracted COVID how many are dying."
   ]
  },
  {
   "cell_type": "code",
   "execution_count": 103,
   "metadata": {},
   "outputs": [],
   "source": [
    "# Reset our indices so we can iterate through the enhanced frame\n",
    "covid_data_enhanced = covid_data_enhanced.reset_index(drop=True)\n",
    "deaths_per_cases = []\n",
    "# For each row in the enhanced frame\n",
    "for index in covid_data_enhanced.index:\n",
    "    # Scrape that row's Total Cases and Deaths values \n",
    "    cases = covid_data_enhanced.at[index, 'Total Cases']\n",
    "    deaths = covid_data_enhanced.at[index, 'Deaths']\n",
    "    # Avoid divide by 0\n",
    "    if cases == 0:\n",
    "        deaths_per_cases.append(0)\n",
    "    # Low sample size cases significantly throw off values\n",
    "    elif cases < 50:\n",
    "        deaths_per_cases.append(np.nan)\n",
    "    # Else append the ratio\n",
    "    else:\n",
    "        deaths_per_cases.append(deaths/cases)\n",
    "# Append onto our enhanced frame\n",
    "covid_data_enhanced['Deaths Per Cases'] = deaths_per_cases"
   ]
  },
  {
   "cell_type": "code",
   "execution_count": 104,
   "metadata": {},
   "outputs": [
    {
     "data": {
      "image/png": "[encoded data removed]",
      "text/plain": [
       "<Figure size 432x288 with 1 Axes>"
      ]
     },
     "metadata": {},
     "output_type": "display_data"
    }
   ],
   "source": [
    "makePlot(covid_data_enhanced, \"Time\", \"Deaths Per Cases\", \"COVID Deaths Per Cases in Virginia\")"
   ]
  },
  {
   "cell_type": "markdown",
   "metadata": {},
   "source": [
    "This final chart in this section confirms what we theorized in the previous charts which is that the deadliness of COVID in virginia has seemingly gone down over time. From April-June 2020 the death rate was the highest but has steadily followed a mild negative slope since then. This is good news for the future of COVID in Virginia because it predicts a decrease in the deadliness of the virus should it continue as it has been. This chart also shows that the peaks in COVID cases have little to no effect on the actual death rate, and that regardless of how rapidly COVID is spreading at any given time the chance of death remains fairly constant. "
   ]
  },
  {
   "cell_type": "markdown",
   "metadata": {},
   "source": [
    "From the visualizations of data in this section, we have been able to make the following observations about how COVID has impacted Virginia:\n",
    "* There have been two major spikes in cases and hospitalizations since reporting began. One was during the winter of 2020/2021 and the other was during the winter of 2021/2022.\n",
    "* While the second spike saw a massive increase in new cases reported as compared to the first, the second spike in cases saw an equal if not slightly lower death rate than the spike the year prior. \n",
    "* During the beginnings of our reported data in April 2020, we saw low reported cases with high hospitalizations and a relatively high death rate. \n",
    "* The deadliness of the virus has slightly decreased over time, with the highest deaths per cases being towards the beginning of the pandemic, and death rate gradually decreasing over time. "
   ]
  },
  {
   "cell_type": "markdown",
   "metadata": {},
   "source": [
    "This concludes our explatory data analysis section. During this section we have gathered a lot of insights onto COVID's effect on the state of Virginia. We will now move onto our next section which is hypothesis testing."
   ]
  },
  {
   "cell_type": "markdown",
   "metadata": {},
   "source": [
    "---\n",
    "## Hypothesis Testing\n",
    "\n",
    "In this section, we will attempt to answer the question: Does the population of a county have an effect on COVID case and death rates? In other words, are you more at risk of contracting and dying of COVID in a heavily populated county like Fairfax or Prince William than you would be if you lived in a remote county like Highland or Norton? Intuitively it might make sense to think that \n",
    "\n",
    "To test this hypothesis, we will collect data on the most and least populated counties in Virginia. From this data, we will do some visual plotting and perform some regression tests to check to see if there are noticeable differences in slopes.\n",
    "\n",
    "We can start by grouping our `county_frames` data into lists based on population size."
   ]
  },
  {
   "cell_type": "code",
   "execution_count": 105,
   "metadata": {},
   "outputs": [],
   "source": [
    "# Define a function to get a a specific county's DataFrame\n",
    "def getFrame(county: str):\n",
    "    for frame in county_frames:\n",
    "        if frame.iloc[0,1] == county:\n",
    "            return frame\n",
    "\n",
    "# Get the 5 largest and smallest rows out of populations by Population count\n",
    "five_largest = populations.nlargest(10, ['Population'])['County'].to_list()\n",
    "five_smallest = populations.nsmallest(10, ['Population'])['County'].to_list()\n",
    "\n",
    "# These lists will hold our DataFrames for the counties with the smallest and largest populations\n",
    "most_populous_frames = []\n",
    "least_populous_frames = []\n",
    "\n",
    "# Get list of frames\n",
    "for cty in five_largest:\n",
    "    most_populous_frames.append(getFrame(cty))\n",
    "    \n",
    "for cty in five_smallest:\n",
    "    least_populous_frames.append(getFrame(cty))       \n"
   ]
  },
  {
   "cell_type": "markdown",
   "metadata": {},
   "source": [
    "Now that we have our five most populous and least populous counties, lets make a line plot of each county in each list. This should allow us to see if there is a different trend in COVID contraction, hospitalization, and death rates based on county population. First, lets define a function to make plotting our data much easier so that we can visualize it without having to repeat a lot of code. "
   ]
  },
  {
   "cell_type": "code",
   "execution_count": 106,
   "metadata": {},
   "outputs": [],
   "source": [
    "# Takes a DataFrame, column values, and some titles to produce a matplotlib line plot\n",
    "def makeLinePlot(df_list, x_col, y_col, x_title, title):\n",
    "    ax = df_list[0].plot(x=x_col, y=y_col, label=getName(df_list[0]))\n",
    "    for i in range (1, len(df_list)):\n",
    "        df_list[i].plot(ax=ax, x=x_col, y=y_col, label=getName(df_list[i]))\n",
    "    plt.xticks(rotation=90) \n",
    "    plt.xlabel(x_title)\n",
    "    plt.ylabel(y_col)\n",
    "    plt.title(title)   "
   ]
  },
  {
   "cell_type": "code",
   "execution_count": 141,
   "metadata": {},
   "outputs": [
    {
     "name": "stderr",
     "output_type": "stream",
     "text": [
      "C:\\Users\\marti\\AppData\\Local\\Temp/ipykernel_23516/2737431356.py:14: UserWarning: FixedFormatter should only be used together with FixedLocator\n",
      "  ax.set_xticklabels(new_labels)\n"
     ]
    },
    {
     "data": {
      "text/plain": [
       "[<matplotlib.lines.Line2D at 0x24c728cf100>]"
      ]
     },
     "execution_count": 141,
     "metadata": {},
     "output_type": "execute_result"
    },
    {
     "data": {
      "image/png": "[encoded data removed]",
      "text/plain": [
       "<Figure size 432x288 with 1 Axes>"
      ]
     },
     "metadata": {},
     "output_type": "display_data"
    }
   ],
   "source": [
    "fairfax = most_populous_frames[0]\n",
    "fairfax['date_ordinal'] = pd.to_datetime(fairfax['Time']).apply(lambda date: date.toordinal())\n",
    "fix, ax = plt.subplots()\n",
    "x = fairfax['date_ordinal']\n",
    "y = fairfax['Total Cases Per Capita']\n",
    "ax.scatter(x,y, s=0.1, c='r')\n",
    "y = fairfax['Total Cases Per Capita']\n",
    "x = fairfax['date_ordinal']\n",
    "X = np.array(x)\n",
    "Y = np.array(y)\n",
    "model = LinearRegression().fit(X.reshape(-1,1),y)\n",
    "ax.set_xlabel(\"Date\")\n",
    "new_labels = [date.fromordinal(int(item)) for item in ax.get_xticks()]\n",
    "ax.set_xticklabels(new_labels)\n",
    "x = np.linspace(x.min(),x.max(),100)\n",
    "y = model.coef_[0]*x+model.intercept_\n",
    "plt.xticks(rotation=90) \n",
    "plt.plot(x,y)"
   ]
  },
  {
   "cell_type": "code",
   "execution_count": null,
   "metadata": {},
   "outputs": [],
   "source": [
    "# makeLinePlot(least_populous_frames, 'Time', 'Total Cases Per Capita', 'Date', 'Cases Per Capita Over Time: Least Populated Counties')"
   ]
  },
  {
   "cell_type": "code",
   "execution_count": null,
   "metadata": {},
   "outputs": [],
   "source": []
  }
 ],
 "metadata": {
  "interpreter": {
   "hash": "957668f77d739aed3606dc0cb3e6b9836150d21e7c3a979985571ea2faa3bd84"
  },
  "kernelspec": {
   "display_name": "Python 3.9.7 ('base')",
   "language": "python",
   "name": "python3"
  },
  "language_info": {
   "codemirror_mode": {
    "name": "ipython",
    "version": 3
   },
   "file_extension": ".py",
   "mimetype": "text/x-python",
   "name": "python",
   "nbconvert_exporter": "python",
   "pygments_lexer": "ipython3",
   "version": "3.9.7"
  },
  "orig_nbformat": 4
 },
 "nbformat": 4,
 "nbformat_minor": 2
}
