{
 "cells": [
  {
   "cell_type": "markdown",
   "metadata": {},
   "source": [
    "# CMSC320 - Introduction to Data Science\n",
    "## Final Tutorial\n",
    "#### David Martin\n",
    "---"
   ]
  },
  {
   "cell_type": "markdown",
   "metadata": {},
   "source": [
    "**Introduction**\n",
    ">Insert introduction here"
   ]
  },
  {
   "cell_type": "markdown",
   "metadata": {},
   "source": [
    "**Imports**\n",
    "\n",
    "The following is an import list of all the Python modules we use for the following tutorial, as well as some global styling settings."
   ]
  },
  {
   "cell_type": "code",
   "execution_count": 192,
   "metadata": {},
   "outputs": [],
   "source": [
    "import pandas as pd\n",
    "import numpy as np\n",
    "import seaborn as sns\n",
    "import datetime \n",
    "import matplotlib.pyplot as plt\n",
    "import requests\n",
    "from fuzzywuzzy import process\n",
    "from bs4 import BeautifulSoup\n",
    "plt.style.use('seaborn-whitegrid')"
   ]
  },
  {
   "cell_type": "markdown",
   "metadata": {},
   "source": [
    "---\n",
    "## Data Collection\n",
    "\n",
    "The purpose of this section is to begin our analysis by collecting our data. We can find publicly available information about many things on government websites, I went to [Virginia's](https://data.virginia.gov) and found a great dataset of COVID reporting data organized by county. Lets use this as our main data set for this analysis.\n",
    "\n",
    "Lets start by pulling the data from the dataset [VDH-COVID-19-PublicUseDataset-Cases](https://data.virginia.gov/Government/VDH-COVID-19-PublicUseDataset-Cases/bre9-aqqr) as found on data.virginia.gov, and taking a look at what it contains:\n",
    "\n",
    "I cloned the dataset and put it in a [GitHub Repository](https://github.com/martindavid1995/Data-Science-Tutorial) in .csv format so that we can have a copy of the data without worrying about it changing on us in the future. We will use [Pandas](https://pandas.pydata.org/pandas-docs/stable/) to read from that .csv and put it into a DataFrame so that we can work with it."
   ]
  },
  {
   "cell_type": "code",
   "execution_count": 193,
   "metadata": {},
   "outputs": [
    {
     "data": {
      "text/html": [
       "<div>\n",
       "<style scoped>\n",
       "    .dataframe tbody tr th:only-of-type {\n",
       "        vertical-align: middle;\n",
       "    }\n",
       "\n",
       "    .dataframe tbody tr th {\n",
       "        vertical-align: top;\n",
       "    }\n",
       "\n",
       "    .dataframe thead th {\n",
       "        text-align: right;\n",
       "    }\n",
       "</style>\n",
       "<table border=\"1\" class=\"dataframe\">\n",
       "  <thead>\n",
       "    <tr style=\"text-align: right;\">\n",
       "      <th></th>\n",
       "      <th>Report Date</th>\n",
       "      <th>FIPS</th>\n",
       "      <th>Locality</th>\n",
       "      <th>VDH Health District</th>\n",
       "      <th>Total Cases</th>\n",
       "      <th>Hospitalizations</th>\n",
       "      <th>Deaths</th>\n",
       "    </tr>\n",
       "  </thead>\n",
       "  <tbody>\n",
       "    <tr>\n",
       "      <th>0</th>\n",
       "      <td>03/17/2020</td>\n",
       "      <td>51001</td>\n",
       "      <td>Accomack</td>\n",
       "      <td>Eastern Shore</td>\n",
       "      <td>0</td>\n",
       "      <td>0</td>\n",
       "      <td>0</td>\n",
       "    </tr>\n",
       "    <tr>\n",
       "      <th>1</th>\n",
       "      <td>03/17/2020</td>\n",
       "      <td>51003</td>\n",
       "      <td>Albemarle</td>\n",
       "      <td>Thomas Jefferson</td>\n",
       "      <td>0</td>\n",
       "      <td>0</td>\n",
       "      <td>0</td>\n",
       "    </tr>\n",
       "    <tr>\n",
       "      <th>2</th>\n",
       "      <td>03/17/2020</td>\n",
       "      <td>51005</td>\n",
       "      <td>Alleghany</td>\n",
       "      <td>Alleghany</td>\n",
       "      <td>0</td>\n",
       "      <td>0</td>\n",
       "      <td>0</td>\n",
       "    </tr>\n",
       "    <tr>\n",
       "      <th>3</th>\n",
       "      <td>03/17/2020</td>\n",
       "      <td>51007</td>\n",
       "      <td>Amelia</td>\n",
       "      <td>Piedmont</td>\n",
       "      <td>0</td>\n",
       "      <td>0</td>\n",
       "      <td>0</td>\n",
       "    </tr>\n",
       "    <tr>\n",
       "      <th>4</th>\n",
       "      <td>03/17/2020</td>\n",
       "      <td>51009</td>\n",
       "      <td>Amherst</td>\n",
       "      <td>Central Virginia</td>\n",
       "      <td>0</td>\n",
       "      <td>0</td>\n",
       "      <td>0</td>\n",
       "    </tr>\n",
       "  </tbody>\n",
       "</table>\n",
       "</div>"
      ],
      "text/plain": [
       "  Report Date   FIPS   Locality VDH Health District  Total Cases  \\\n",
       "0  03/17/2020  51001   Accomack       Eastern Shore            0   \n",
       "1  03/17/2020  51003  Albemarle    Thomas Jefferson            0   \n",
       "2  03/17/2020  51005  Alleghany           Alleghany            0   \n",
       "3  03/17/2020  51007     Amelia            Piedmont            0   \n",
       "4  03/17/2020  51009    Amherst    Central Virginia            0   \n",
       "\n",
       "   Hospitalizations  Deaths  \n",
       "0                 0       0  \n",
       "1                 0       0  \n",
       "2                 0       0  \n",
       "3                 0       0  \n",
       "4                 0       0  "
      ]
     },
     "execution_count": 193,
     "metadata": {},
     "output_type": "execute_result"
    }
   ],
   "source": [
    "# Pull data on COVID cases across Virginia\n",
    "covid_data = pd.read_csv(\"https://raw.githubusercontent.com/martindavid1995/Data-Science-Tutorial/master/Covid_VA.csv\")\n",
    "# Display the first five entries\n",
    "covid_data.head()"
   ]
  },
  {
   "cell_type": "markdown",
   "metadata": {},
   "source": [
    "In looking at this DataFrame, we see our listed columns. Right away we can see that we seem to have reports by county for a number of days which include total cases, hospitalizations, and deaths. Before ending this section, we might want to consider any more information that might be useful for us to get a good understanding of what COVID looks like in Virginia.\n",
    "\n",
    "Since we will likely at some point be observing our data based on county, it might be helpful for us to get an idea of what counties have the largest and smallest populations. For example looking at death rate: three deaths in a single day in a Virginia county with a population of over 1 million people might mean significantly less than three deaths in a county with a population of 4,000 people. This is something we might want to consider when exploring our data, so we should attempt to find some population information for each county."
   ]
  },
  {
   "cell_type": "markdown",
   "metadata": {},
   "source": [
    "A google search of [Virginia Counties by Population](https://www.virginia-demographics.com/counties_by_population) brings us a chart with a value for each of Virginia's 133 counties. While we could sit here and manually enter the populations by hand, we can use python and [BeautifulSoup](https://www.crummy.com/software/BeautifulSoup/bs4/doc/) to strip the population data off this webpage so that we don't have to do all that manual data entry."
   ]
  },
  {
   "cell_type": "code",
   "execution_count": 194,
   "metadata": {},
   "outputs": [
    {
     "data": {
      "text/html": [
       "<div>\n",
       "<style scoped>\n",
       "    .dataframe tbody tr th:only-of-type {\n",
       "        vertical-align: middle;\n",
       "    }\n",
       "\n",
       "    .dataframe tbody tr th {\n",
       "        vertical-align: top;\n",
       "    }\n",
       "\n",
       "    .dataframe thead th {\n",
       "        text-align: right;\n",
       "    }\n",
       "</style>\n",
       "<table border=\"1\" class=\"dataframe\">\n",
       "  <thead>\n",
       "    <tr style=\"text-align: right;\">\n",
       "      <th></th>\n",
       "      <th>Rank</th>\n",
       "      <th>County</th>\n",
       "      <th>Population</th>\n",
       "    </tr>\n",
       "  </thead>\n",
       "  <tbody>\n",
       "    <tr>\n",
       "      <th>0</th>\n",
       "      <td>1</td>\n",
       "      <td>Fairfax County</td>\n",
       "      <td>1149439</td>\n",
       "    </tr>\n",
       "    <tr>\n",
       "      <th>1</th>\n",
       "      <td>2</td>\n",
       "      <td>Prince William County</td>\n",
       "      <td>466834</td>\n",
       "    </tr>\n",
       "    <tr>\n",
       "      <th>2</th>\n",
       "      <td>3</td>\n",
       "      <td>Virginia Beach city/county</td>\n",
       "      <td>450882</td>\n",
       "    </tr>\n",
       "    <tr>\n",
       "      <th>3</th>\n",
       "      <td>4</td>\n",
       "      <td>Loudoun County</td>\n",
       "      <td>405312</td>\n",
       "    </tr>\n",
       "    <tr>\n",
       "      <th>4</th>\n",
       "      <td>5</td>\n",
       "      <td>Chesterfield County</td>\n",
       "      <td>348500</td>\n",
       "    </tr>\n",
       "  </tbody>\n",
       "</table>\n",
       "</div>"
      ],
      "text/plain": [
       "  Rank                      County Population\n",
       "0    1              Fairfax County    1149439\n",
       "1    2       Prince William County     466834\n",
       "2    3  Virginia Beach city/county     450882\n",
       "3    4              Loudoun County     405312\n",
       "4    5         Chesterfield County     348500"
      ]
     },
     "execution_count": 194,
     "metadata": {},
     "output_type": "execute_result"
    }
   ],
   "source": [
    "# Use requests to pull data from URL\n",
    "r = requests.get(\"https://www.virginia-demographics.com/counties_by_population\")\n",
    "# Use BeautifulSoup to parse the request's HTML\n",
    "soup = BeautifulSoup(r.content, 'html.parser')\n",
    "# Find the table object and prettify it\n",
    "table = soup.find('table').prettify()\n",
    "# Convert the table into a DataFrame\n",
    "populations = pd.read_html(str(table))[0]\n",
    "# Drop the last row because it has data we don't need\n",
    "populations = populations.drop(index=len(populations.index)-1)\n",
    "# Display the first five entries\n",
    "populations.head()"
   ]
  },
  {
   "cell_type": "markdown",
   "metadata": {},
   "source": [
    "Perfect! Now we have all of the data we are going to need for this analysis. We have our COVID reporting data, and we have our population sizes for each of our 133 Virginian counties. In the next section, we will begin manipulating these DataFrames so that we are able to have all the information we need to perform our data visualization."
   ]
  },
  {
   "cell_type": "markdown",
   "metadata": {},
   "source": [
    "---\n",
    "## Data Management/Representation\n",
    "\n",
    "In this section, we will begin modifying our data to contain the information that we need to perform our data visualization. Before we start changing things too much, lets try to get an idea of what our dataset looks like. We might ask to know how many rows of data do we have? What day does the data start and when does it end? Are all of the 133 counties in Virginia represented in our main dataset? Does each county have a report for each day? \n",
    "\n",
    "Lets start answering these questions by figuring out how many entries we have in our `covid_data` DataFrame."
   ]
  },
  {
   "cell_type": "code",
   "execution_count": 195,
   "metadata": {},
   "outputs": [
    {
     "name": "stdout",
     "output_type": "stream",
     "text": [
      "Total number of columns in the dataset:  103607\n"
     ]
    }
   ],
   "source": [
    "print(\"Total number of columns in the dataset: \",len(covid_data.index))"
   ]
  },
  {
   "cell_type": "markdown",
   "metadata": {},
   "source": [
    "So `covid_data` holds quite a bit of information. Over 100,000 rows where each row represents a single counties report on a given day. Next, lets try to see what the dates of the oldest and most recent reports are."
   ]
  },
  {
   "cell_type": "code",
   "execution_count": 196,
   "metadata": {},
   "outputs": [
    {
     "name": "stdout",
     "output_type": "stream",
     "text": [
      "Min:  01/01/2021\n",
      "Max:  12/31/2021\n"
     ]
    }
   ],
   "source": [
    "# Prints the minimum and maximum values of a specified column in a DataFrame\n",
    "def printMinMax(df, column):\n",
    "    print(\"Min: \",df[column].min())\n",
    "    print(\"Max: \",df[column].max())\n",
    "    \n",
    "printMinMax(covid_data, \"Report Date\")"
   ]
  },
  {
   "cell_type": "markdown",
   "metadata": {},
   "source": [
    "If we look at the results of the above cell, we notice our first issue with this dataset. The date range from the days above shows January 1, 2021 as being the earliest recorded date when we can clearly see from the head output in the above cells that we have columns with dates going back into 2020. This must be because there is some inability to compare these date objects in the current dataframe accurately. Lets convert the dates into DateTime objects so we can figure out our actual date range, and manipulate and visualize our data better."
   ]
  },
  {
   "cell_type": "code",
   "execution_count": 197,
   "metadata": {},
   "outputs": [
    {
     "data": {
      "text/html": [
       "<div>\n",
       "<style scoped>\n",
       "    .dataframe tbody tr th:only-of-type {\n",
       "        vertical-align: middle;\n",
       "    }\n",
       "\n",
       "    .dataframe tbody tr th {\n",
       "        vertical-align: top;\n",
       "    }\n",
       "\n",
       "    .dataframe thead th {\n",
       "        text-align: right;\n",
       "    }\n",
       "</style>\n",
       "<table border=\"1\" class=\"dataframe\">\n",
       "  <thead>\n",
       "    <tr style=\"text-align: right;\">\n",
       "      <th></th>\n",
       "      <th>Report Date</th>\n",
       "      <th>FIPS</th>\n",
       "      <th>Locality</th>\n",
       "      <th>VDH Health District</th>\n",
       "      <th>Total Cases</th>\n",
       "      <th>Hospitalizations</th>\n",
       "      <th>Deaths</th>\n",
       "      <th>DateTime</th>\n",
       "    </tr>\n",
       "  </thead>\n",
       "  <tbody>\n",
       "    <tr>\n",
       "      <th>0</th>\n",
       "      <td>03/17/2020</td>\n",
       "      <td>51001</td>\n",
       "      <td>Accomack</td>\n",
       "      <td>Eastern Shore</td>\n",
       "      <td>0</td>\n",
       "      <td>0</td>\n",
       "      <td>0</td>\n",
       "      <td>2020-03-17</td>\n",
       "    </tr>\n",
       "    <tr>\n",
       "      <th>1</th>\n",
       "      <td>03/17/2020</td>\n",
       "      <td>51003</td>\n",
       "      <td>Albemarle</td>\n",
       "      <td>Thomas Jefferson</td>\n",
       "      <td>0</td>\n",
       "      <td>0</td>\n",
       "      <td>0</td>\n",
       "      <td>2020-03-17</td>\n",
       "    </tr>\n",
       "    <tr>\n",
       "      <th>2</th>\n",
       "      <td>03/17/2020</td>\n",
       "      <td>51005</td>\n",
       "      <td>Alleghany</td>\n",
       "      <td>Alleghany</td>\n",
       "      <td>0</td>\n",
       "      <td>0</td>\n",
       "      <td>0</td>\n",
       "      <td>2020-03-17</td>\n",
       "    </tr>\n",
       "    <tr>\n",
       "      <th>3</th>\n",
       "      <td>03/17/2020</td>\n",
       "      <td>51007</td>\n",
       "      <td>Amelia</td>\n",
       "      <td>Piedmont</td>\n",
       "      <td>0</td>\n",
       "      <td>0</td>\n",
       "      <td>0</td>\n",
       "      <td>2020-03-17</td>\n",
       "    </tr>\n",
       "    <tr>\n",
       "      <th>4</th>\n",
       "      <td>03/17/2020</td>\n",
       "      <td>51009</td>\n",
       "      <td>Amherst</td>\n",
       "      <td>Central Virginia</td>\n",
       "      <td>0</td>\n",
       "      <td>0</td>\n",
       "      <td>0</td>\n",
       "      <td>2020-03-17</td>\n",
       "    </tr>\n",
       "  </tbody>\n",
       "</table>\n",
       "</div>"
      ],
      "text/plain": [
       "  Report Date   FIPS   Locality VDH Health District  Total Cases  \\\n",
       "0  03/17/2020  51001   Accomack       Eastern Shore            0   \n",
       "1  03/17/2020  51003  Albemarle    Thomas Jefferson            0   \n",
       "2  03/17/2020  51005  Alleghany           Alleghany            0   \n",
       "3  03/17/2020  51007     Amelia            Piedmont            0   \n",
       "4  03/17/2020  51009    Amherst    Central Virginia            0   \n",
       "\n",
       "   Hospitalizations  Deaths    DateTime  \n",
       "0                 0       0  2020-03-17  \n",
       "1                 0       0  2020-03-17  \n",
       "2                 0       0  2020-03-17  \n",
       "3                 0       0  2020-03-17  \n",
       "4                 0       0  2020-03-17  "
      ]
     },
     "execution_count": 197,
     "metadata": {},
     "output_type": "execute_result"
    }
   ],
   "source": [
    "# Split each date string into its components\n",
    "def dateToDateTime(date: str):\n",
    "    split = date.split(\"/\")\n",
    "    month = int(split[0])\n",
    "    day = int(split[1])\n",
    "    year = int(split[2])\n",
    "    # Return a new DateTime object \n",
    "    return datetime.date(year, month, day)\n",
    "    \n",
    "# Convert each row's Report Date into a readable DateTime\n",
    "def convertDateTime(df):\n",
    "    datetimes = []\n",
    "    for index in df.index:\n",
    "        date = df.at[index, \"Report Date\"]\n",
    "        datetimes.append(dateToDateTime(date))\n",
    "    \n",
    "    # Add the new DateTimes to the original DataFrame\n",
    "    df['DateTime'] = datetimes\n",
    "    return df\n",
    "\n",
    "covid_data = convertDateTime(covid_data)\n",
    "covid_data.head()"
   ]
  },
  {
   "cell_type": "markdown",
   "metadata": {},
   "source": [
    "With the new DateTime column added, lets check to see what our actual date range looks like for this dataset."
   ]
  },
  {
   "cell_type": "code",
   "execution_count": 198,
   "metadata": {},
   "outputs": [
    {
     "name": "stdout",
     "output_type": "stream",
     "text": [
      "Min:  2020-03-17\n",
      "Max:  2022-05-04\n"
     ]
    }
   ],
   "source": [
    "printMinMax(covid_data, \"DateTime\")"
   ]
  },
  {
   "cell_type": "markdown",
   "metadata": {},
   "source": [
    "Now we have a column with dates that we can actually compare in our data analysis. We can see that our data's report dates span from March 2020 to May 2022. Lets see what counties we have, how many dates are recorded, and see if each county has a report for each date."
   ]
  },
  {
   "cell_type": "code",
   "execution_count": 199,
   "metadata": {},
   "outputs": [
    {
     "name": "stdout",
     "output_type": "stream",
     "text": [
      "There are  133  unique counties\n",
      "There are  779  unique dates\n",
      "Each date has  133  unique entries\n"
     ]
    }
   ],
   "source": [
    "# Get a list of the unique counties\n",
    "counties = covid_data[\"Locality\"].unique()\n",
    "# Display how many unique counties are in our dataset\n",
    "print(\"There are \",len(counties),\" unique counties\")\n",
    "\n",
    "# Figure out how many unique dates we have data for\n",
    "dates = covid_data[\"DateTime\"].unique()\n",
    "# Display how many unique dates we have\n",
    "print(\"There are \",len(dates),\" unique dates\")\n",
    "\n",
    "# Get the number of rows containing each unique date in our dataset\n",
    "date_counts = covid_data[\"Report Date\"].value_counts()\n",
    "unique_dates = date_counts.unique()\n",
    "# Display the unique date count values\n",
    "print(\"Each date has \",unique_dates[0],\" unique entries\")"
   ]
  },
  {
   "cell_type": "markdown",
   "metadata": {},
   "source": [
    "This above cell gives us a lot of great information. We now know that we have 133 Virginia counties whose COVID reporting data is in this dataset. We also know that each of the 133 counties has reported COVID data for each of the 779 dates recorded in this table. This is great news for us as it means there shouldn't be any missing data that we need to account for."
   ]
  },
  {
   "cell_type": "markdown",
   "metadata": {},
   "source": [
    "Unfortunately, the data provided from the Virginia website only records cumulative data. This means that instead of each county reporting their number of new cases, hospitalizations, and deaths each day, they only report the running total of cases they have in each category since reporting began. While this is important information, it might be useful for us to gather the new reported cases for each date. \n",
    "\n",
    "Having a daily report amount give us an easier way to visualize which dates have higher case, hospitalization, and death rates. We can use the difference in values between consecutive days in order to determine how many new cases are reported each day.\n",
    "\n",
    "While we're at it, we should separate our DataFrames by county, since we will be looking at individual counties in our data analysis. Lets go ahead and do this manipulation."
   ]
  },
  {
   "cell_type": "code",
   "execution_count": 200,
   "metadata": {},
   "outputs": [
    {
     "data": {
      "text/html": [
       "<div>\n",
       "<style scoped>\n",
       "    .dataframe tbody tr th:only-of-type {\n",
       "        vertical-align: middle;\n",
       "    }\n",
       "\n",
       "    .dataframe tbody tr th {\n",
       "        vertical-align: top;\n",
       "    }\n",
       "\n",
       "    .dataframe thead th {\n",
       "        text-align: right;\n",
       "    }\n",
       "</style>\n",
       "<table border=\"1\" class=\"dataframe\">\n",
       "  <thead>\n",
       "    <tr style=\"text-align: right;\">\n",
       "      <th></th>\n",
       "      <th>Report Date</th>\n",
       "      <th>FIPS</th>\n",
       "      <th>Locality</th>\n",
       "      <th>VDH Health District</th>\n",
       "      <th>Total Cases</th>\n",
       "      <th>Hospitalizations</th>\n",
       "      <th>Deaths</th>\n",
       "      <th>DateTime</th>\n",
       "      <th>Total Cases Per Day</th>\n",
       "      <th>Hospitalizations Per Day</th>\n",
       "      <th>Deaths Per Day</th>\n",
       "    </tr>\n",
       "  </thead>\n",
       "  <tbody>\n",
       "    <tr>\n",
       "      <th>0</th>\n",
       "      <td>03/17/2020</td>\n",
       "      <td>51025</td>\n",
       "      <td>Brunswick</td>\n",
       "      <td>Southside</td>\n",
       "      <td>0</td>\n",
       "      <td>0</td>\n",
       "      <td>0</td>\n",
       "      <td>2020-03-17</td>\n",
       "      <td>0</td>\n",
       "      <td>0</td>\n",
       "      <td>0</td>\n",
       "    </tr>\n",
       "    <tr>\n",
       "      <th>1</th>\n",
       "      <td>03/18/2020</td>\n",
       "      <td>51025</td>\n",
       "      <td>Brunswick</td>\n",
       "      <td>Southside</td>\n",
       "      <td>0</td>\n",
       "      <td>0</td>\n",
       "      <td>0</td>\n",
       "      <td>2020-03-18</td>\n",
       "      <td>0</td>\n",
       "      <td>0</td>\n",
       "      <td>0</td>\n",
       "    </tr>\n",
       "    <tr>\n",
       "      <th>2</th>\n",
       "      <td>03/19/2020</td>\n",
       "      <td>51025</td>\n",
       "      <td>Brunswick</td>\n",
       "      <td>Southside</td>\n",
       "      <td>0</td>\n",
       "      <td>0</td>\n",
       "      <td>0</td>\n",
       "      <td>2020-03-19</td>\n",
       "      <td>0</td>\n",
       "      <td>0</td>\n",
       "      <td>0</td>\n",
       "    </tr>\n",
       "    <tr>\n",
       "      <th>3</th>\n",
       "      <td>03/20/2020</td>\n",
       "      <td>51025</td>\n",
       "      <td>Brunswick</td>\n",
       "      <td>Southside</td>\n",
       "      <td>0</td>\n",
       "      <td>0</td>\n",
       "      <td>0</td>\n",
       "      <td>2020-03-20</td>\n",
       "      <td>0</td>\n",
       "      <td>0</td>\n",
       "      <td>0</td>\n",
       "    </tr>\n",
       "    <tr>\n",
       "      <th>4</th>\n",
       "      <td>03/21/2020</td>\n",
       "      <td>51025</td>\n",
       "      <td>Brunswick</td>\n",
       "      <td>Southside</td>\n",
       "      <td>0</td>\n",
       "      <td>0</td>\n",
       "      <td>0</td>\n",
       "      <td>2020-03-21</td>\n",
       "      <td>0</td>\n",
       "      <td>0</td>\n",
       "      <td>0</td>\n",
       "    </tr>\n",
       "  </tbody>\n",
       "</table>\n",
       "</div>"
      ],
      "text/plain": [
       "  Report Date   FIPS   Locality VDH Health District  Total Cases  \\\n",
       "0  03/17/2020  51025  Brunswick           Southside            0   \n",
       "1  03/18/2020  51025  Brunswick           Southside            0   \n",
       "2  03/19/2020  51025  Brunswick           Southside            0   \n",
       "3  03/20/2020  51025  Brunswick           Southside            0   \n",
       "4  03/21/2020  51025  Brunswick           Southside            0   \n",
       "\n",
       "   Hospitalizations  Deaths    DateTime  Total Cases Per Day  \\\n",
       "0                 0       0  2020-03-17                    0   \n",
       "1                 0       0  2020-03-18                    0   \n",
       "2                 0       0  2020-03-19                    0   \n",
       "3                 0       0  2020-03-20                    0   \n",
       "4                 0       0  2020-03-21                    0   \n",
       "\n",
       "   Hospitalizations Per Day  Deaths Per Day  \n",
       "0                         0               0  \n",
       "1                         0               0  \n",
       "2                         0               0  \n",
       "3                         0               0  \n",
       "4                         0               0  "
      ]
     },
     "execution_count": 200,
     "metadata": {},
     "output_type": "execute_result"
    }
   ],
   "source": [
    "# Takes a dataframe for a specific county and adds a column that shows the number of new cases reported for each report date\n",
    "def genColumnDifference(df, column):\n",
    "    offsets = []\n",
    "    # For each row in the dataframe\n",
    "    for index in df.index:\n",
    "        if index == 0:\n",
    "            offsets.append(0)\n",
    "        else:\n",
    "            # Compute the difference in the specified column of the current report date minus the previous report date\n",
    "            offsets.append(df.at[index, column] - df.at[index-1, column])\n",
    "    # Append this column to the dataframe\n",
    "    df[column+\" Per Day\"] = offsets\n",
    "    return df\n",
    "\n",
    "county_frames = []\n",
    "# For each county \n",
    "for county in counties:\n",
    "    # Construct a new dataframe consisting only of rows corresponding to this county\n",
    "    county_frame = covid_data.loc[covid_data[\"Locality\"] == county]\n",
    "    # Reset the indices\n",
    "    county_frame = county_frame.reset_index(drop=True)\n",
    "    # Get the column differences for Total Cases, Hospitalizations, and Deaths\n",
    "    county_frame = genColumnDifference(county_frame, \"Total Cases\")\n",
    "    county_frame = genColumnDifference(county_frame, \"Hospitalizations\")\n",
    "    county_frame = genColumnDifference(county_frame, \"Deaths\")\n",
    "    # Add it to our list of counties\n",
    "    county_frames.append(county_frame)\n",
    "\n",
    "county_frames[12].head()"
   ]
  },
  {
   "cell_type": "markdown",
   "metadata": {},
   "source": [
    "Now that we have the daily counts for each metric divided into separate DataFrames for each of our counties, we need to make sure we can easily pull the population counts for each county to help in our analysis. Ideally, we will define a function where we can pass in the `Locality` value from a row in the `covid_data` frame, and get the resulting population for that county out of our `populations` frame. \n",
    "\n",
    "Unfortunately, counties are do not have the same naming conventions between the two DataFrames. For example, if we are looking for the population for **\"Fairfax\"** as written in `covid_data`, its corresponding value is titled **\"Fairfax County\"** in the `populations` DataFrame. We need to modify these values so that we can use the same lookup key to easily access this information in the future. \n",
    "\n",
    "We can use this by using the Python library [FuzzyWuzzy](https://pypi.org/project/fuzzywuzzy/) to compute [Levenshtein distance](https://en.wikipedia.org/wiki/Levenshtein_distance) between pairs of strings. We can then use these measures to match our county names in one frame to line them up with one another. We will find the best matching strings for these two columns and change the value in the `County` column in the `populations` frame to match its respective county in the `Locality` column in the `covid_data` frame."
   ]
  },
  {
   "cell_type": "code",
   "execution_count": 201,
   "metadata": {},
   "outputs": [
    {
     "data": {
      "text/html": [
       "<div>\n",
       "<style scoped>\n",
       "    .dataframe tbody tr th:only-of-type {\n",
       "        vertical-align: middle;\n",
       "    }\n",
       "\n",
       "    .dataframe tbody tr th {\n",
       "        vertical-align: top;\n",
       "    }\n",
       "\n",
       "    .dataframe thead th {\n",
       "        text-align: right;\n",
       "    }\n",
       "</style>\n",
       "<table border=\"1\" class=\"dataframe\">\n",
       "  <thead>\n",
       "    <tr style=\"text-align: right;\">\n",
       "      <th></th>\n",
       "      <th>Rank</th>\n",
       "      <th>County</th>\n",
       "      <th>Population</th>\n",
       "    </tr>\n",
       "  </thead>\n",
       "  <tbody>\n",
       "    <tr>\n",
       "      <th>0</th>\n",
       "      <td>1</td>\n",
       "      <td>Fairfax</td>\n",
       "      <td>1149439</td>\n",
       "    </tr>\n",
       "    <tr>\n",
       "      <th>1</th>\n",
       "      <td>2</td>\n",
       "      <td>Prince William</td>\n",
       "      <td>466834</td>\n",
       "    </tr>\n",
       "    <tr>\n",
       "      <th>2</th>\n",
       "      <td>3</td>\n",
       "      <td>Virginia Beach</td>\n",
       "      <td>450882</td>\n",
       "    </tr>\n",
       "    <tr>\n",
       "      <th>3</th>\n",
       "      <td>4</td>\n",
       "      <td>Loudoun</td>\n",
       "      <td>405312</td>\n",
       "    </tr>\n",
       "    <tr>\n",
       "      <th>4</th>\n",
       "      <td>5</td>\n",
       "      <td>Chesterfield</td>\n",
       "      <td>348500</td>\n",
       "    </tr>\n",
       "  </tbody>\n",
       "</table>\n",
       "</div>"
      ],
      "text/plain": [
       "  Rank          County Population\n",
       "0    1         Fairfax    1149439\n",
       "1    2  Prince William     466834\n",
       "2    3  Virginia Beach     450882\n",
       "3    4         Loudoun     405312\n",
       "4    5    Chesterfield     348500"
      ]
     },
     "execution_count": 201,
     "metadata": {},
     "output_type": "execute_result"
    }
   ],
   "source": [
    "# Get all of the counties from populations DataFrame in a list\n",
    "pop_counties = populations['County'].unique()\n",
    "\n",
    "# For each unique county name in our covid_data main DataFrame\n",
    "for county in counties:\n",
    "    # Use FuzzyWuzzy to find the value in the 'County' column of populations most similar to the value in the 'Locality' column in covid_data\n",
    "    proc = process.extract(county, pop_counties, limit=1)\n",
    "    # The match variable represents the matching county name in populations\n",
    "    (match, score) = proc[0]\n",
    "    # Get the index of that value in our populations frame\n",
    "    index = populations.index[populations['County'] == match]\n",
    "    # Rename the value in our populations frame so that it is identical to its respective county in in covid_data\n",
    "    populations.at[index,'County'] = county\n",
    "    \n",
    "populations.head()"
   ]
  },
  {
   "cell_type": "markdown",
   "metadata": {},
   "source": [
    "Lets quickly define a function to pull the population of any `Locality` from our main `covid_data` database. While we're at it, lets run a quick check to make sure we can pull a population value for each entry in our `covid_data` DataFrame. "
   ]
  },
  {
   "cell_type": "code",
   "execution_count": 202,
   "metadata": {},
   "outputs": [],
   "source": [
    "def getPopulation(county: str):\n",
    "    return populations.loc[populations['County'] == county]['Population'].values[0]"
   ]
  },
  {
   "cell_type": "code",
   "execution_count": 203,
   "metadata": {},
   "outputs": [
    {
     "name": "stdout",
     "output_type": "stream",
     "text": [
      "Found  0  mismatched values between our two DataFrames\n"
     ]
    }
   ],
   "source": [
    "# There is one county that doesn't match up in our populations DataFrame\n",
    "for index,row in populations.iterrows():\n",
    "    # Find the bad county and manually fix it\n",
    "    if populations.at[index, 'County'] == 'Charlotte County':\n",
    "        populations.at[index, 'County'] = 'Charlotte'\n",
    "\n",
    "# Get the unique county names in each frame\n",
    "population_counties = populations['County'].unique()\n",
    "covid_data_counties = covid_data['Locality'].unique()\n",
    "\n",
    "# Check for any that don't match\n",
    "mismatched_values = 0\n",
    "for ct in population_counties:\n",
    "    if ct not in covid_data_counties:\n",
    "        mismatched_values += 1\n",
    "\n",
    "print(\"Found \",mismatched_values,\" mismatched values between our two DataFrames\")"
   ]
  },
  {
   "cell_type": "markdown",
   "metadata": {},
   "source": [
    "Excellent! Now we can easily look up a counties population by just plugging in the `Locality` value in `covid_data` for that county."
   ]
  },
  {
   "cell_type": "markdown",
   "metadata": {},
   "source": [
    "This concludes the **Data Management** section of the tutorial. Our data is now set up in a way where we can visualize it and perform some analysis. In the next section, we will begin visualizing and analyzing the COVID data."
   ]
  },
  {
   "cell_type": "markdown",
   "metadata": {},
   "source": [
    "---\n",
    "## Exploratory Data Analysis\n",
    "\n",
    "In this section, we will being visualizing and interpreting the COVID data for the state of Virginia. We will be using `Matplotlib` as our main visualization tool. \n"
   ]
  },
  {
   "cell_type": "markdown",
   "metadata": {},
   "source": [
    "Lets start by looking COVID data by simply plotting our `Total Cases` over time from our original dataset. We can use `Matplotlib` to achieve this rather easily."
   ]
  },
  {
   "cell_type": "code",
   "execution_count": 204,
   "metadata": {},
   "outputs": [
    {
     "data": {
      "image/png": "[encoded data removed]",
      "text/plain": [
       "<Figure size 432x288 with 1 Axes>"
      ]
     },
     "metadata": {},
     "output_type": "display_data"
    }
   ],
   "source": [
    "# Create figure and axes\n",
    "fig = plt.figure()\n",
    "ax = plt.axes()\n",
    "\n",
    "# Plot with x axis as time and y axis as total cases\n",
    "ax.plot(covid_data[\"DateTime\"], covid_data[\"Total Cases\"])\n",
    "\n",
    "# Set labels and title\n",
    "plt.xlabel(\"Time\")\n",
    "plt.ylabel(\"Total Cases\")\n",
    "plt.title(\"Cumulative COVID positive cases in Virginia over time\")\n",
    "\n",
    "# Rotate ticks\n",
    "plt.xticks(rotation=90)\n",
    "plt.show()"
   ]
  },
  {
   "cell_type": "markdown",
   "metadata": {},
   "source": [
    "As expected, the total number COVID cases in Virginia goes up over time. This is pretty intuitive as there is no way for the total cases to go down because it is a cumulative measure. From this chart we can gather some information about COVID contraction rates. We see two sections with steep slopes - January 2020 and January 2021 show massive relative spikes in total cases state-wide. This comes as no surprise, as the winter months involved cold/flu season as well as lots of family gatherings which might have increase the rate of spread.\n",
    "\n",
    "In my opinion, plotting cases like this is rather misleading. To me this chart make it look like COVID is getting way worse over time, whereas in reality the actual number of new cases is not increasing. It will be a lot more representative to see what the cases per day looks like if we want a better understanding of when COVID is at its worst in Virginia. Lets pick out a few counties to "
   ]
  },
  {
   "cell_type": "code",
   "execution_count": null,
   "metadata": {},
   "outputs": [],
   "source": []
  }
 ],
 "metadata": {
  "language_info": {
   "name": "python"
  },
  "orig_nbformat": 4
 },
 "nbformat": 4,
 "nbformat_minor": 2
}
