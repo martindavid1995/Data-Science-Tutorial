{
 "cells": [
  {
   "cell_type": "markdown",
   "metadata": {},
   "source": [
    "# CMSC320 - Introduction to Data Science\n",
    "## Final Tutorial\n",
    "#### David Martin\n",
    "---"
   ]
  },
  {
   "cell_type": "markdown",
   "metadata": {},
   "source": [
    "The purpose of this tutorial is to perform an analysis of COVID data across the state of Virginia."
   ]
  },
  {
   "cell_type": "code",
   "execution_count": 67,
   "metadata": {},
   "outputs": [],
   "source": [
    "import requests\n",
    "import pandas as pd\n",
    "import json\n",
    "import datetime"
   ]
  },
  {
   "cell_type": "markdown",
   "metadata": {},
   "source": [
    "## Data Collection\n",
    "\n",
    "Lets start by pulling the data from the dataset \"VDH-COVID-19-PublicUseDataset-Cases\" as found on data.virginia.gov, and taking a look at what it contains:\n",
    "\n",
    "https://data.virginia.gov/Government/VDH-COVID-19-PublicUseDataset-Cases/bre9-aqqr\n",
    "\n",
    "I uploaded the .csv to my GitHub at the following link:\n",
    "\n",
    "https://github.com/martindavid1995/Data-Science-Tutorial"
   ]
  },
  {
   "cell_type": "code",
   "execution_count": 68,
   "metadata": {},
   "outputs": [
    {
     "data": {
      "text/html": [
       "<div>\n",
       "<style scoped>\n",
       "    .dataframe tbody tr th:only-of-type {\n",
       "        vertical-align: middle;\n",
       "    }\n",
       "\n",
       "    .dataframe tbody tr th {\n",
       "        vertical-align: top;\n",
       "    }\n",
       "\n",
       "    .dataframe thead th {\n",
       "        text-align: right;\n",
       "    }\n",
       "</style>\n",
       "<table border=\"1\" class=\"dataframe\">\n",
       "  <thead>\n",
       "    <tr style=\"text-align: right;\">\n",
       "      <th></th>\n",
       "      <th>Report Date</th>\n",
       "      <th>FIPS</th>\n",
       "      <th>Locality</th>\n",
       "      <th>VDH Health District</th>\n",
       "      <th>Total Cases</th>\n",
       "      <th>Hospitalizations</th>\n",
       "      <th>Deaths</th>\n",
       "    </tr>\n",
       "  </thead>\n",
       "  <tbody>\n",
       "    <tr>\n",
       "      <th>0</th>\n",
       "      <td>03/17/2020</td>\n",
       "      <td>51001</td>\n",
       "      <td>Accomack</td>\n",
       "      <td>Eastern Shore</td>\n",
       "      <td>0</td>\n",
       "      <td>0</td>\n",
       "      <td>0</td>\n",
       "    </tr>\n",
       "    <tr>\n",
       "      <th>1</th>\n",
       "      <td>03/17/2020</td>\n",
       "      <td>51003</td>\n",
       "      <td>Albemarle</td>\n",
       "      <td>Thomas Jefferson</td>\n",
       "      <td>0</td>\n",
       "      <td>0</td>\n",
       "      <td>0</td>\n",
       "    </tr>\n",
       "    <tr>\n",
       "      <th>2</th>\n",
       "      <td>03/17/2020</td>\n",
       "      <td>51005</td>\n",
       "      <td>Alleghany</td>\n",
       "      <td>Alleghany</td>\n",
       "      <td>0</td>\n",
       "      <td>0</td>\n",
       "      <td>0</td>\n",
       "    </tr>\n",
       "    <tr>\n",
       "      <th>3</th>\n",
       "      <td>03/17/2020</td>\n",
       "      <td>51007</td>\n",
       "      <td>Amelia</td>\n",
       "      <td>Piedmont</td>\n",
       "      <td>0</td>\n",
       "      <td>0</td>\n",
       "      <td>0</td>\n",
       "    </tr>\n",
       "    <tr>\n",
       "      <th>4</th>\n",
       "      <td>03/17/2020</td>\n",
       "      <td>51009</td>\n",
       "      <td>Amherst</td>\n",
       "      <td>Central Virginia</td>\n",
       "      <td>0</td>\n",
       "      <td>0</td>\n",
       "      <td>0</td>\n",
       "    </tr>\n",
       "  </tbody>\n",
       "</table>\n",
       "</div>"
      ],
      "text/plain": [
       "  Report Date   FIPS   Locality VDH Health District  Total Cases  \\\n",
       "0  03/17/2020  51001   Accomack       Eastern Shore            0   \n",
       "1  03/17/2020  51003  Albemarle    Thomas Jefferson            0   \n",
       "2  03/17/2020  51005  Alleghany           Alleghany            0   \n",
       "3  03/17/2020  51007     Amelia            Piedmont            0   \n",
       "4  03/17/2020  51009    Amherst    Central Virginia            0   \n",
       "\n",
       "   Hospitalizations  Deaths  \n",
       "0                 0       0  \n",
       "1                 0       0  \n",
       "2                 0       0  \n",
       "3                 0       0  \n",
       "4                 0       0  "
      ]
     },
     "execution_count": 68,
     "metadata": {},
     "output_type": "execute_result"
    }
   ],
   "source": [
    "# Pull data on COVID cases across virginia\n",
    "covid_data = pd.read_csv(\"https://raw.githubusercontent.com/martindavid1995/Data-Science-Tutorial/master/Covid_VA.csv\")\n",
    "covid_data.head()\n"
   ]
  },
  {
   "cell_type": "markdown",
   "metadata": {},
   "source": [
    "## Data Management\n",
    "\n",
    "Now that we have our dataset imported, lets start looking at what we have to work with. In order to visualize our data, we should look to find what "
   ]
  },
  {
   "cell_type": "code",
   "execution_count": 69,
   "metadata": {},
   "outputs": [
    {
     "name": "stdout",
     "output_type": "stream",
     "text": [
      "Total number of columns in the dataset:  103607\n"
     ]
    }
   ],
   "source": [
    "print(\"Total number of columns in the dataset: \",len(covid_data.index))"
   ]
  },
  {
   "cell_type": "markdown",
   "metadata": {},
   "source": [
    "As we can see, we have a pretty large set of data. Over 100,000 rows with seemingly an entry for each locality for each date within the specified range. Lets see what the day range looks like:"
   ]
  },
  {
   "cell_type": "code",
   "execution_count": 70,
   "metadata": {},
   "outputs": [
    {
     "name": "stdout",
     "output_type": "stream",
     "text": [
      "Oldest entry:  01/01/2021\n",
      "Most recent entry:  12/31/2021\n"
     ]
    }
   ],
   "source": [
    "def printMinMax(df, column):\n",
    "    print(\"Oldest entry: \",df[column].min())\n",
    "    print(\"Most recent entry: \",df[column].max())\n",
    "    \n",
    "printMinMax(covid_data, \"Report Date\")"
   ]
  },
  {
   "cell_type": "markdown",
   "metadata": {},
   "source": [
    "If we look at the results of the above cell, we notice our first issue with this dataset. The date range from the days above shows January 1, 2021 as being the earliest recorded date when we can clearly see from the head output in the above cells that we have columns with dates going back into 2020. This must be because there is some inability to compare these date objects in the current dataframe accurately. Lets convert the dates into DateTime objects so we can figure out our actual date range, and manipulate and visualize our data better."
   ]
  },
  {
   "cell_type": "code",
   "execution_count": 74,
   "metadata": {},
   "outputs": [
    {
     "data": {
      "text/html": [
       "<div>\n",
       "<style scoped>\n",
       "    .dataframe tbody tr th:only-of-type {\n",
       "        vertical-align: middle;\n",
       "    }\n",
       "\n",
       "    .dataframe tbody tr th {\n",
       "        vertical-align: top;\n",
       "    }\n",
       "\n",
       "    .dataframe thead th {\n",
       "        text-align: right;\n",
       "    }\n",
       "</style>\n",
       "<table border=\"1\" class=\"dataframe\">\n",
       "  <thead>\n",
       "    <tr style=\"text-align: right;\">\n",
       "      <th></th>\n",
       "      <th>Report Date</th>\n",
       "      <th>FIPS</th>\n",
       "      <th>Locality</th>\n",
       "      <th>VDH Health District</th>\n",
       "      <th>Total Cases</th>\n",
       "      <th>Hospitalizations</th>\n",
       "      <th>Deaths</th>\n",
       "      <th>DateTime</th>\n",
       "    </tr>\n",
       "  </thead>\n",
       "  <tbody>\n",
       "    <tr>\n",
       "      <th>0</th>\n",
       "      <td>03/17/2020</td>\n",
       "      <td>51001</td>\n",
       "      <td>Accomack</td>\n",
       "      <td>Eastern Shore</td>\n",
       "      <td>0</td>\n",
       "      <td>0</td>\n",
       "      <td>0</td>\n",
       "      <td>2020-03-17</td>\n",
       "    </tr>\n",
       "    <tr>\n",
       "      <th>1</th>\n",
       "      <td>03/17/2020</td>\n",
       "      <td>51003</td>\n",
       "      <td>Albemarle</td>\n",
       "      <td>Thomas Jefferson</td>\n",
       "      <td>0</td>\n",
       "      <td>0</td>\n",
       "      <td>0</td>\n",
       "      <td>2020-03-17</td>\n",
       "    </tr>\n",
       "    <tr>\n",
       "      <th>2</th>\n",
       "      <td>03/17/2020</td>\n",
       "      <td>51005</td>\n",
       "      <td>Alleghany</td>\n",
       "      <td>Alleghany</td>\n",
       "      <td>0</td>\n",
       "      <td>0</td>\n",
       "      <td>0</td>\n",
       "      <td>2020-03-17</td>\n",
       "    </tr>\n",
       "    <tr>\n",
       "      <th>3</th>\n",
       "      <td>03/17/2020</td>\n",
       "      <td>51007</td>\n",
       "      <td>Amelia</td>\n",
       "      <td>Piedmont</td>\n",
       "      <td>0</td>\n",
       "      <td>0</td>\n",
       "      <td>0</td>\n",
       "      <td>2020-03-17</td>\n",
       "    </tr>\n",
       "    <tr>\n",
       "      <th>4</th>\n",
       "      <td>03/17/2020</td>\n",
       "      <td>51009</td>\n",
       "      <td>Amherst</td>\n",
       "      <td>Central Virginia</td>\n",
       "      <td>0</td>\n",
       "      <td>0</td>\n",
       "      <td>0</td>\n",
       "      <td>2020-03-17</td>\n",
       "    </tr>\n",
       "  </tbody>\n",
       "</table>\n",
       "</div>"
      ],
      "text/plain": [
       "  Report Date   FIPS   Locality VDH Health District  Total Cases  \\\n",
       "0  03/17/2020  51001   Accomack       Eastern Shore            0   \n",
       "1  03/17/2020  51003  Albemarle    Thomas Jefferson            0   \n",
       "2  03/17/2020  51005  Alleghany           Alleghany            0   \n",
       "3  03/17/2020  51007     Amelia            Piedmont            0   \n",
       "4  03/17/2020  51009    Amherst    Central Virginia            0   \n",
       "\n",
       "   Hospitalizations  Deaths    DateTime  \n",
       "0                 0       0  2020-03-17  \n",
       "1                 0       0  2020-03-17  \n",
       "2                 0       0  2020-03-17  \n",
       "3                 0       0  2020-03-17  \n",
       "4                 0       0  2020-03-17  "
      ]
     },
     "execution_count": 74,
     "metadata": {},
     "output_type": "execute_result"
    }
   ],
   "source": [
    "def dateToDateTime(date: str):\n",
    "    split = date.split(\"/\")\n",
    "    month = int(split[0])\n",
    "    day = int(split[1])\n",
    "    year = int(split[2])\n",
    "    return datetime.date(year, month, day)\n",
    "    \n",
    "\n",
    "def convertDateTime(df):\n",
    "    datetimes = []\n",
    "    for index,row in df.iterrows():\n",
    "        date = df.at[index, \"Report Date\"]\n",
    "        datetimes.append(dateToDateTime(date))\n",
    "    \n",
    "    df['DateTime'] = datetimes\n",
    "    return df\n",
    "\n",
    "covid_data = convertDateTime(covid_data)\n",
    "covid_data.head()"
   ]
  },
  {
   "cell_type": "markdown",
   "metadata": {},
   "source": [
    "With the new DateTime column added, lets check to see what our actual date range looks like for this dataset."
   ]
  },
  {
   "cell_type": "code",
   "execution_count": 72,
   "metadata": {},
   "outputs": [
    {
     "name": "stdout",
     "output_type": "stream",
     "text": [
      "Oldest entry:  2020-03-17\n",
      "Most recent entry:  2022-05-04\n"
     ]
    }
   ],
   "source": [
    "printMinMax(covid_data, \"DateTime\")"
   ]
  },
  {
   "cell_type": "markdown",
   "metadata": {},
   "source": [
    "Now we have a column with dates that we can actually compare in our data analysis. We can see that our data's report dates span from March 2020 to May 2022. Lets see what counties we have, how many dates are recorded, and see if each county has a report for each date."
   ]
  },
  {
   "cell_type": "code",
   "execution_count": 73,
   "metadata": {},
   "outputs": [
    {
     "name": "stdout",
     "output_type": "stream",
     "text": [
      "There are  133  unique counties\n",
      "There are  779  unique dates\n",
      "Each date has  133  unique entries\n"
     ]
    }
   ],
   "source": [
    "# Get a list of the unique counties\n",
    "counties = covid_data[\"Locality\"].unique()\n",
    "# Display how many unique counties are in our dataset\n",
    "print(\"There are \",len(counties),\" unique counties\")\n",
    "\n",
    "# Figure out how many unique dates we have data for\n",
    "dates = covid_data[\"DateTime\"].unique()\n",
    "# Display how many unique dates we have\n",
    "print(\"There are \",len(dates),\" unique dates\")\n",
    "\n",
    "# Get the number of rows containing each unique date in our dataset\n",
    "date_counts = covid_data[\"Report Date\"].value_counts()\n",
    "unique_dates = date_counts.unique()\n",
    "# Display the unique date count values\n",
    "print(\"Each date has \",unique_dates[0],\" unique entries\")"
   ]
  },
  {
   "cell_type": "markdown",
   "metadata": {},
   "source": [
    "This above cell gives us a lot of great information. We now know that we have 133 Virginia counties whose COVID reporting data is in this dataset. We also know that each of the 133 counties has reported COVID data for each of the 779 dates recorded in this table. With this information, we can now move onto visualizing our data."
   ]
  },
  {
   "cell_type": "markdown",
   "metadata": {},
   "source": [
    "## Exploratory Data Analysis\n",
    "\n",
    "Now that we know a bit more about our dataset and have made some slight modifications to make it more manipulatable, lets try to visualize our COVID data."
   ]
  }
 ],
 "metadata": {
  "interpreter": {
   "hash": "0305797186e5b23b2dbde5736499e01b32f3bcfd44ad4b479fc191776976783f"
  },
  "kernelspec": {
   "display_name": "Python 3.9.7 ('base')",
   "language": "python",
   "name": "python3"
  },
  "language_info": {
   "name": "python",
   "version": "3.9.7"
  },
  "orig_nbformat": 4
 },
 "nbformat": 4,
 "nbformat_minor": 2
}
